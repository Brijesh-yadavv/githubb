{
 "cells": [
  {
   "cell_type": "markdown",
   "id": "52f09cdc",
   "metadata": {
    "id": "NZ5HgzdE4TKo",
    "papermill": {
     "duration": 0.024732,
     "end_time": "2023-05-20T12:47:25.951340",
     "exception": false,
     "start_time": "2023-05-20T12:47:25.926608",
     "status": "completed"
    },
    "tags": []
   },
   "source": [
    "# Top Repositories for github Topics\n",
    "\n",
    "Use the \"Run\" button to execute the code."
   ]
  },
  {
   "cell_type": "markdown",
   "id": "f5af3192",
   "metadata": {
    "id": "cID90DU74TK3",
    "papermill": {
     "duration": 0.024278,
     "end_time": "2023-05-20T12:47:25.999826",
     "exception": false,
     "start_time": "2023-05-20T12:47:25.975548",
     "status": "completed"
    },
    "tags": []
   },
   "source": [
    "# 1. Pick a website and describe your objective\n",
    "### * Browse through different sites and pick on to scrape. Check the \"Project \n",
    "### * Identify the information you'd like to scrape from the site. Decide the format of the output CSV file.\n",
    "### * Summarize your project idea and outline your strategy in a Juptyer notebook. Use the \"New\" button above."
   ]
  },
  {
   "cell_type": "markdown",
   "id": "cf91682c",
   "metadata": {
    "id": "CUDmH_ux7PW3",
    "papermill": {
     "duration": 0.023201,
     "end_time": "2023-05-20T12:47:26.046764",
     "exception": false,
     "start_time": "2023-05-20T12:47:26.023563",
     "status": "completed"
    },
    "tags": []
   },
   "source": [
    "# Project Outline:\n",
    "## -we are going to scrap the page https://github.com/topics\n",
    "## - we will get the list of topic title and topic page url and topic desc.\n",
    "## - for each topic get top 25 repo in the topic from the topic page\n",
    "## - for each repo we will grap the repo name ,username , stars and repo url\n",
    "## -for each topic we will create a csv file in the following format "
   ]
  },
  {
   "cell_type": "markdown",
   "id": "f3ecf11f",
   "metadata": {
    "id": "6wLNZvhI4TK_",
    "papermill": {
     "duration": 0.023054,
     "end_time": "2023-05-20T12:47:26.093368",
     "exception": false,
     "start_time": "2023-05-20T12:47:26.070314",
     "status": "completed"
    },
    "tags": []
   },
   "source": [
    "# 2. Use the requests library to download web pages"
   ]
  },
  {
   "cell_type": "markdown",
   "id": "b897119f",
   "metadata": {
    "id": "DizLt9Py9QzQ",
    "papermill": {
     "duration": 0.023241,
     "end_time": "2023-05-20T12:47:26.139974",
     "exception": false,
     "start_time": "2023-05-20T12:47:26.116733",
     "status": "completed"
    },
    "tags": []
   },
   "source": [
    "### install the requests libraray for donloading the webage "
   ]
  },
  {
   "cell_type": "code",
   "execution_count": 1,
   "id": "b614e8fb",
   "metadata": {
    "execution": {
     "iopub.execute_input": "2023-05-20T12:47:26.189585Z",
     "iopub.status.busy": "2023-05-20T12:47:26.188472Z",
     "iopub.status.idle": "2023-05-20T12:47:37.525857Z",
     "shell.execute_reply": "2023-05-20T12:47:37.524521Z"
    },
    "executionInfo": {
     "elapsed": 4811,
     "status": "ok",
     "timestamp": 1684513457448,
     "user": {
      "displayName": "Brijesh Yadav",
      "userId": "03225467880293085279"
     },
     "user_tz": -330
    },
    "id": "ImrCGgpM4TLA",
    "papermill": {
     "duration": 11.364851,
     "end_time": "2023-05-20T12:47:37.528542",
     "exception": false,
     "start_time": "2023-05-20T12:47:26.163691",
     "status": "completed"
    },
    "tags": []
   },
   "outputs": [
    {
     "name": "stdout",
     "output_type": "stream",
     "text": [
      "\u001b[33mWARNING: Running pip as the 'root' user can result in broken permissions and conflicting behaviour with the system package manager. It is recommended to use a virtual environment instead: https://pip.pypa.io/warnings/venv\u001b[0m\u001b[33m\r\n",
      "\u001b[0m"
     ]
    }
   ],
   "source": [
    "!pip install requests --quiet # here quiet means that the output of the installed libaray will not be shown "
   ]
  },
  {
   "cell_type": "code",
   "execution_count": 2,
   "id": "b19a84e1",
   "metadata": {
    "execution": {
     "iopub.execute_input": "2023-05-20T12:47:37.578979Z",
     "iopub.status.busy": "2023-05-20T12:47:37.578597Z",
     "iopub.status.idle": "2023-05-20T12:47:37.583405Z",
     "shell.execute_reply": "2023-05-20T12:47:37.582317Z"
    },
    "executionInfo": {
     "elapsed": 14,
     "status": "ok",
     "timestamp": 1684513457449,
     "user": {
      "displayName": "Brijesh Yadav",
      "userId": "03225467880293085279"
     },
     "user_tz": -330
    },
    "id": "7WfKtM8e4TLB",
    "papermill": {
     "duration": 0.032559,
     "end_time": "2023-05-20T12:47:37.585439",
     "exception": false,
     "start_time": "2023-05-20T12:47:37.552880",
     "status": "completed"
    },
    "tags": []
   },
   "outputs": [],
   "source": [
    "import requests"
   ]
  },
  {
   "cell_type": "markdown",
   "id": "78539912",
   "metadata": {
    "id": "bha1zmGc950Q",
    "papermill": {
     "duration": 0.02307,
     "end_time": "2023-05-20T12:47:37.632242",
     "exception": false,
     "start_time": "2023-05-20T12:47:37.609172",
     "status": "completed"
    },
    "tags": []
   },
   "source": [
    "### get the wepage using requests libraray"
   ]
  },
  {
   "cell_type": "code",
   "execution_count": 3,
   "id": "2a37a635",
   "metadata": {
    "execution": {
     "iopub.execute_input": "2023-05-20T12:47:37.680838Z",
     "iopub.status.busy": "2023-05-20T12:47:37.680502Z",
     "iopub.status.idle": "2023-05-20T12:47:37.684646Z",
     "shell.execute_reply": "2023-05-20T12:47:37.683673Z"
    },
    "executionInfo": {
     "elapsed": 427,
     "status": "ok",
     "timestamp": 1684513494065,
     "user": {
      "displayName": "Brijesh Yadav",
      "userId": "03225467880293085279"
     },
     "user_tz": -330
    },
    "id": "8zop-DO592cS",
    "papermill": {
     "duration": 0.030831,
     "end_time": "2023-05-20T12:47:37.686616",
     "exception": false,
     "start_time": "2023-05-20T12:47:37.655785",
     "status": "completed"
    },
    "tags": []
   },
   "outputs": [],
   "source": [
    "topics_url='https://github.com/topics'"
   ]
  },
  {
   "cell_type": "code",
   "execution_count": 4,
   "id": "565d5175",
   "metadata": {
    "execution": {
     "iopub.execute_input": "2023-05-20T12:47:37.735491Z",
     "iopub.status.busy": "2023-05-20T12:47:37.735110Z",
     "iopub.status.idle": "2023-05-20T12:47:38.254718Z",
     "shell.execute_reply": "2023-05-20T12:47:38.253611Z"
    },
    "executionInfo": {
     "elapsed": 459,
     "status": "ok",
     "timestamp": 1684513499276,
     "user": {
      "displayName": "Brijesh Yadav",
      "userId": "03225467880293085279"
     },
     "user_tz": -330
    },
    "id": "hE-hpZtm4TLC",
    "papermill": {
     "duration": 0.546907,
     "end_time": "2023-05-20T12:47:38.257226",
     "exception": false,
     "start_time": "2023-05-20T12:47:37.710319",
     "status": "completed"
    },
    "tags": []
   },
   "outputs": [],
   "source": [
    "response=requests.get(topics_url)"
   ]
  },
  {
   "cell_type": "code",
   "execution_count": 5,
   "id": "a5d7c949",
   "metadata": {
    "execution": {
     "iopub.execute_input": "2023-05-20T12:47:38.306517Z",
     "iopub.status.busy": "2023-05-20T12:47:38.306130Z",
     "iopub.status.idle": "2023-05-20T12:47:38.313555Z",
     "shell.execute_reply": "2023-05-20T12:47:38.312616Z"
    },
    "executionInfo": {
     "elapsed": 9,
     "status": "ok",
     "timestamp": 1684513501509,
     "user": {
      "displayName": "Brijesh Yadav",
      "userId": "03225467880293085279"
     },
     "user_tz": -330
    },
    "id": "-9VuePEn4TLC",
    "outputId": "5e26bb9f-2d21-4d9f-b508-17bd7ea7f9b8",
    "papermill": {
     "duration": 0.034051,
     "end_time": "2023-05-20T12:47:38.315547",
     "exception": false,
     "start_time": "2023-05-20T12:47:38.281496",
     "status": "completed"
    },
    "tags": []
   },
   "outputs": [
    {
     "data": {
      "text/plain": [
       "200"
      ]
     },
     "execution_count": 5,
     "metadata": {},
     "output_type": "execute_result"
    }
   ],
   "source": [
    "response.status_code"
   ]
  },
  {
   "cell_type": "markdown",
   "id": "01bc61db",
   "metadata": {
    "id": "fN2a6dnV4TLD",
    "papermill": {
     "duration": 0.023509,
     "end_time": "2023-05-20T12:47:38.362832",
     "exception": false,
     "start_time": "2023-05-20T12:47:38.339323",
     "status": "completed"
    },
    "tags": []
   },
   "source": [
    "### all the content of the webpage github_topics will be in response.text"
   ]
  },
  {
   "cell_type": "code",
   "execution_count": 6,
   "id": "ea3fc841",
   "metadata": {
    "execution": {
     "iopub.execute_input": "2023-05-20T12:47:38.411706Z",
     "iopub.status.busy": "2023-05-20T12:47:38.411359Z",
     "iopub.status.idle": "2023-05-20T12:47:38.416977Z",
     "shell.execute_reply": "2023-05-20T12:47:38.416268Z"
    },
    "executionInfo": {
     "elapsed": 9,
     "status": "ok",
     "timestamp": 1684513506014,
     "user": {
      "displayName": "Brijesh Yadav",
      "userId": "03225467880293085279"
     },
     "user_tz": -330
    },
    "id": "2ac_Q4iH4TLD",
    "outputId": "5ef92f4f-f928-4180-aeec-75d677b302b0",
    "papermill": {
     "duration": 0.03251,
     "end_time": "2023-05-20T12:47:38.418928",
     "exception": false,
     "start_time": "2023-05-20T12:47:38.386418",
     "status": "completed"
    },
    "tags": []
   },
   "outputs": [
    {
     "data": {
      "text/plain": [
       "155334"
      ]
     },
     "execution_count": 6,
     "metadata": {},
     "output_type": "execute_result"
    }
   ],
   "source": [
    "len(response.text)"
   ]
  },
  {
   "cell_type": "code",
   "execution_count": 7,
   "id": "dae3be2b",
   "metadata": {
    "execution": {
     "iopub.execute_input": "2023-05-20T12:47:38.468049Z",
     "iopub.status.busy": "2023-05-20T12:47:38.467700Z",
     "iopub.status.idle": "2023-05-20T12:47:38.472240Z",
     "shell.execute_reply": "2023-05-20T12:47:38.471080Z"
    },
    "executionInfo": {
     "elapsed": 5,
     "status": "ok",
     "timestamp": 1684513508345,
     "user": {
      "displayName": "Brijesh Yadav",
      "userId": "03225467880293085279"
     },
     "user_tz": -330
    },
    "id": "3cco0b16_MrB",
    "papermill": {
     "duration": 0.031579,
     "end_time": "2023-05-20T12:47:38.474389",
     "exception": false,
     "start_time": "2023-05-20T12:47:38.442810",
     "status": "completed"
    },
    "tags": []
   },
   "outputs": [],
   "source": [
    "page_content=response.text"
   ]
  },
  {
   "cell_type": "code",
   "execution_count": 8,
   "id": "82ad2c30",
   "metadata": {
    "execution": {
     "iopub.execute_input": "2023-05-20T12:47:38.523992Z",
     "iopub.status.busy": "2023-05-20T12:47:38.523609Z",
     "iopub.status.idle": "2023-05-20T12:47:38.530055Z",
     "shell.execute_reply": "2023-05-20T12:47:38.529147Z"
    },
    "executionInfo": {
     "elapsed": 10,
     "status": "ok",
     "timestamp": 1684513510728,
     "user": {
      "displayName": "Brijesh Yadav",
      "userId": "03225467880293085279"
     },
     "user_tz": -330
    },
    "id": "VgnslnAO_Mt5",
    "outputId": "66444add-3417-4c71-8be3-dc0d823663e4",
    "papermill": {
     "duration": 0.033432,
     "end_time": "2023-05-20T12:47:38.531902",
     "exception": false,
     "start_time": "2023-05-20T12:47:38.498470",
     "status": "completed"
    },
    "tags": []
   },
   "outputs": [
    {
     "data": {
      "text/plain": [
       "'\\n\\n<!DOCTYPE html>\\n<html lang=\"en\" data-color-mode=\"auto\" data-light-theme=\"light\" data-dark-theme=\"dark\" data-a11y-animated-images=\"system\">\\n  <head>\\n    <meta charset=\"utf-8\">\\n  <link rel=\"dns-prefetch\" href=\"https://github.githubassets.com\">\\n  <link rel=\"dns-prefetch\" href=\"https://avatars.githubusercontent.com\">\\n  <link rel=\"dns-prefetch\" href=\"https://github-cloud.s3.amazonaws.com\">\\n  <link rel=\"dns-prefetch\" href=\"https://user-images.githubusercontent.com/\">\\n  <link rel=\"preconnect\" href=\"https://github.githubassets.com\" crossorigin>\\n  <link rel=\"preconnect\" href=\"https://avatars.githubusercontent.com\">\\n\\n  \\n\\n  <link crossorigin=\"anonymous\" media=\"all\" rel=\"stylesheet\" href=\"https://github.githubassets.com/assets/light-0946cdc16f15.css\" /><link crossorigin=\"anonymous\" media=\"all\" rel=\"stylesheet\" href=\"https://github.githubassets.com/assets/dark-3946c959759a.css\" /><link data-color-theme=\"dark_dimmed\" crossorigin=\"anonymous\" media=\"all\" rel=\"stylesheet\" data-href=\"https://github.gi'"
      ]
     },
     "execution_count": 8,
     "metadata": {},
     "output_type": "execute_result"
    }
   ],
   "source": [
    "page_content[:1000]"
   ]
  },
  {
   "cell_type": "markdown",
   "id": "a011a246",
   "metadata": {
    "id": "blYTptel_M6m",
    "papermill": {
     "duration": 0.023669,
     "end_time": "2023-05-20T12:47:38.579691",
     "exception": false,
     "start_time": "2023-05-20T12:47:38.556022",
     "status": "completed"
    },
    "tags": []
   },
   "source": [
    "### writing the content of the page to file"
   ]
  },
  {
   "cell_type": "code",
   "execution_count": 9,
   "id": "7a2b5619",
   "metadata": {
    "execution": {
     "iopub.execute_input": "2023-05-20T12:47:38.628802Z",
     "iopub.status.busy": "2023-05-20T12:47:38.628398Z",
     "iopub.status.idle": "2023-05-20T12:47:38.634357Z",
     "shell.execute_reply": "2023-05-20T12:47:38.633296Z"
    },
    "executionInfo": {
     "elapsed": 403,
     "status": "ok",
     "timestamp": 1684513572201,
     "user": {
      "displayName": "Brijesh Yadav",
      "userId": "03225467880293085279"
     },
     "user_tz": -330
    },
    "id": "PakmdCP6_inG",
    "papermill": {
     "duration": 0.032928,
     "end_time": "2023-05-20T12:47:38.636444",
     "exception": false,
     "start_time": "2023-05-20T12:47:38.603516",
     "status": "completed"
    },
    "tags": []
   },
   "outputs": [],
   "source": [
    "with open ('webpage.html','w') as f:\n",
    "  f.write(page_content)"
   ]
  },
  {
   "cell_type": "markdown",
   "id": "950e8c14",
   "metadata": {
    "id": "V9go8Vdo4TLE",
    "papermill": {
     "duration": 0.023496,
     "end_time": "2023-05-20T12:47:38.684003",
     "exception": false,
     "start_time": "2023-05-20T12:47:38.660507",
     "status": "completed"
    },
    "tags": []
   },
   "source": [
    "# 3. Use Beautiful Soup to parse and extract information"
   ]
  },
  {
   "cell_type": "code",
   "execution_count": 10,
   "id": "0b1150ef",
   "metadata": {
    "execution": {
     "iopub.execute_input": "2023-05-20T12:47:38.733626Z",
     "iopub.status.busy": "2023-05-20T12:47:38.733259Z",
     "iopub.status.idle": "2023-05-20T12:47:48.965506Z",
     "shell.execute_reply": "2023-05-20T12:47:48.964322Z"
    },
    "executionInfo": {
     "elapsed": 4440,
     "status": "ok",
     "timestamp": 1684513584160,
     "user": {
      "displayName": "Brijesh Yadav",
      "userId": "03225467880293085279"
     },
     "user_tz": -330
    },
    "id": "iqalwZKN4TLE",
    "papermill": {
     "duration": 10.260363,
     "end_time": "2023-05-20T12:47:48.968082",
     "exception": false,
     "start_time": "2023-05-20T12:47:38.707719",
     "status": "completed"
    },
    "tags": []
   },
   "outputs": [
    {
     "name": "stdout",
     "output_type": "stream",
     "text": [
      "\u001b[33mWARNING: Running pip as the 'root' user can result in broken permissions and conflicting behaviour with the system package manager. It is recommended to use a virtual environment instead: https://pip.pypa.io/warnings/venv\u001b[0m\u001b[33m\r\n",
      "\u001b[0m"
     ]
    }
   ],
   "source": [
    "!pip install beautifulsoup4 --quiet"
   ]
  },
  {
   "cell_type": "markdown",
   "id": "29a03cc4",
   "metadata": {
    "id": "s_JalgZrBqSQ",
    "papermill": {
     "duration": 0.023848,
     "end_time": "2023-05-20T12:47:49.016749",
     "exception": false,
     "start_time": "2023-05-20T12:47:48.992901",
     "status": "completed"
    },
    "tags": []
   },
   "source": [
    "### module is bs4 and from bs4 we are using class called beautifulSoup"
   ]
  },
  {
   "cell_type": "code",
   "execution_count": 11,
   "id": "29c11f39",
   "metadata": {
    "execution": {
     "iopub.execute_input": "2023-05-20T12:47:49.066456Z",
     "iopub.status.busy": "2023-05-20T12:47:49.066014Z",
     "iopub.status.idle": "2023-05-20T12:47:49.227025Z",
     "shell.execute_reply": "2023-05-20T12:47:49.226096Z"
    },
    "executionInfo": {
     "elapsed": 687,
     "status": "ok",
     "timestamp": 1684513614332,
     "user": {
      "displayName": "Brijesh Yadav",
      "userId": "03225467880293085279"
     },
     "user_tz": -330
    },
    "id": "vsF-elds4TLF",
    "papermill": {
     "duration": 0.188872,
     "end_time": "2023-05-20T12:47:49.229439",
     "exception": false,
     "start_time": "2023-05-20T12:47:49.040567",
     "status": "completed"
    },
    "tags": []
   },
   "outputs": [],
   "source": [
    "from bs4 import BeautifulSoup"
   ]
  },
  {
   "cell_type": "code",
   "execution_count": 12,
   "id": "bd3a5aff",
   "metadata": {
    "execution": {
     "iopub.execute_input": "2023-05-20T12:47:49.280005Z",
     "iopub.status.busy": "2023-05-20T12:47:49.279265Z",
     "iopub.status.idle": "2023-05-20T12:47:49.477309Z",
     "shell.execute_reply": "2023-05-20T12:47:49.476285Z"
    },
    "executionInfo": {
     "elapsed": 5,
     "status": "ok",
     "timestamp": 1684513618539,
     "user": {
      "displayName": "Brijesh Yadav",
      "userId": "03225467880293085279"
     },
     "user_tz": -330
    },
    "id": "GRZ2Ss7I4TLF",
    "papermill": {
     "duration": 0.225652,
     "end_time": "2023-05-20T12:47:49.479610",
     "exception": false,
     "start_time": "2023-05-20T12:47:49.253958",
     "status": "completed"
    },
    "tags": []
   },
   "outputs": [],
   "source": [
    "parsed_doc=BeautifulSoup(page_content, 'html.parser')"
   ]
  },
  {
   "cell_type": "markdown",
   "id": "33770ed1",
   "metadata": {
    "id": "sS1YTdzwMZzi",
    "papermill": {
     "duration": 0.023823,
     "end_time": "2023-05-20T12:47:49.528054",
     "exception": false,
     "start_time": "2023-05-20T12:47:49.504231",
     "status": "completed"
    },
    "tags": []
   },
   "source": [
    "### now we have find the topic_title tags"
   ]
  },
  {
   "cell_type": "code",
   "execution_count": 13,
   "id": "46130bc0",
   "metadata": {
    "execution": {
     "iopub.execute_input": "2023-05-20T12:47:49.577572Z",
     "iopub.status.busy": "2023-05-20T12:47:49.577165Z",
     "iopub.status.idle": "2023-05-20T12:47:49.586083Z",
     "shell.execute_reply": "2023-05-20T12:47:49.585075Z"
    },
    "executionInfo": {
     "elapsed": 1060,
     "status": "ok",
     "timestamp": 1684513681666,
     "user": {
      "displayName": "Brijesh Yadav",
      "userId": "03225467880293085279"
     },
     "user_tz": -330
    },
    "id": "5hY5wBHE4TLG",
    "papermill": {
     "duration": 0.036275,
     "end_time": "2023-05-20T12:47:49.588122",
     "exception": false,
     "start_time": "2023-05-20T12:47:49.551847",
     "status": "completed"
    },
    "tags": []
   },
   "outputs": [],
   "source": [
    "selection_class=\"f3 lh-condensed mb-0 mt-1 Link--primary\"\n",
    "topic_title_tags=parsed_doc.find_all('p',{'class':selection_class})"
   ]
  },
  {
   "cell_type": "code",
   "execution_count": 14,
   "id": "83d03324",
   "metadata": {
    "execution": {
     "iopub.execute_input": "2023-05-20T12:47:49.638509Z",
     "iopub.status.busy": "2023-05-20T12:47:49.638124Z",
     "iopub.status.idle": "2023-05-20T12:47:49.644443Z",
     "shell.execute_reply": "2023-05-20T12:47:49.643444Z"
    },
    "executionInfo": {
     "elapsed": 8,
     "status": "ok",
     "timestamp": 1684513682368,
     "user": {
      "displayName": "Brijesh Yadav",
      "userId": "03225467880293085279"
     },
     "user_tz": -330
    },
    "id": "sKvYP0Hb4TLG",
    "outputId": "3de2b337-b834-43b0-facf-6dbdd57ab324",
    "papermill": {
     "duration": 0.034096,
     "end_time": "2023-05-20T12:47:49.646470",
     "exception": false,
     "start_time": "2023-05-20T12:47:49.612374",
     "status": "completed"
    },
    "tags": []
   },
   "outputs": [
    {
     "data": {
      "text/plain": [
       "30"
      ]
     },
     "execution_count": 14,
     "metadata": {},
     "output_type": "execute_result"
    }
   ],
   "source": [
    "len(topic_title_tags)"
   ]
  },
  {
   "cell_type": "code",
   "execution_count": 15,
   "id": "08e0c13b",
   "metadata": {
    "execution": {
     "iopub.execute_input": "2023-05-20T12:47:49.696514Z",
     "iopub.status.busy": "2023-05-20T12:47:49.696137Z",
     "iopub.status.idle": "2023-05-20T12:47:49.702918Z",
     "shell.execute_reply": "2023-05-20T12:47:49.701970Z"
    },
    "executionInfo": {
     "elapsed": 9,
     "status": "ok",
     "timestamp": 1684513684059,
     "user": {
      "displayName": "Brijesh Yadav",
      "userId": "03225467880293085279"
     },
     "user_tz": -330
    },
    "id": "b-tQ69EG4TLH",
    "outputId": "79ee1029-7ac1-4d66-e4b5-769cf4f1d550",
    "papermill": {
     "duration": 0.034083,
     "end_time": "2023-05-20T12:47:49.704845",
     "exception": false,
     "start_time": "2023-05-20T12:47:49.670762",
     "status": "completed"
    },
    "tags": []
   },
   "outputs": [
    {
     "data": {
      "text/plain": [
       "[<p class=\"f3 lh-condensed mb-0 mt-1 Link--primary\">3D</p>,\n",
       " <p class=\"f3 lh-condensed mb-0 mt-1 Link--primary\">Ajax</p>,\n",
       " <p class=\"f3 lh-condensed mb-0 mt-1 Link--primary\">Algorithm</p>,\n",
       " <p class=\"f3 lh-condensed mb-0 mt-1 Link--primary\">Amp</p>,\n",
       " <p class=\"f3 lh-condensed mb-0 mt-1 Link--primary\">Android</p>]"
      ]
     },
     "execution_count": 15,
     "metadata": {},
     "output_type": "execute_result"
    }
   ],
   "source": [
    "topic_title_tags[:5]"
   ]
  },
  {
   "cell_type": "markdown",
   "id": "94836c03",
   "metadata": {
    "id": "jjhuPHVAMf0a",
    "papermill": {
     "duration": 0.024266,
     "end_time": "2023-05-20T12:47:49.753608",
     "exception": false,
     "start_time": "2023-05-20T12:47:49.729342",
     "status": "completed"
    },
    "tags": []
   },
   "source": [
    "### here we have find the topic_desc_tags"
   ]
  },
  {
   "cell_type": "code",
   "execution_count": 16,
   "id": "d74efed5",
   "metadata": {
    "execution": {
     "iopub.execute_input": "2023-05-20T12:47:49.803526Z",
     "iopub.status.busy": "2023-05-20T12:47:49.803096Z",
     "iopub.status.idle": "2023-05-20T12:47:49.811488Z",
     "shell.execute_reply": "2023-05-20T12:47:49.810799Z"
    },
    "executionInfo": {
     "elapsed": 412,
     "status": "ok",
     "timestamp": 1684513742193,
     "user": {
      "displayName": "Brijesh Yadav",
      "userId": "03225467880293085279"
     },
     "user_tz": -330
    },
    "id": "mGO7PJyKLAq0",
    "papermill": {
     "duration": 0.035448,
     "end_time": "2023-05-20T12:47:49.813226",
     "exception": false,
     "start_time": "2023-05-20T12:47:49.777778",
     "status": "completed"
    },
    "tags": []
   },
   "outputs": [],
   "source": [
    "desc_selector='f5 color-fg-muted mb-0 mt-1'\n",
    "topic_desc_tags=parsed_doc.find_all('p',{'class':desc_selector})"
   ]
  },
  {
   "cell_type": "code",
   "execution_count": 17,
   "id": "2c0b6f2e",
   "metadata": {
    "execution": {
     "iopub.execute_input": "2023-05-20T12:47:49.864458Z",
     "iopub.status.busy": "2023-05-20T12:47:49.864110Z",
     "iopub.status.idle": "2023-05-20T12:47:49.869188Z",
     "shell.execute_reply": "2023-05-20T12:47:49.868472Z"
    },
    "executionInfo": {
     "elapsed": 5,
     "status": "ok",
     "timestamp": 1684513742643,
     "user": {
      "displayName": "Brijesh Yadav",
      "userId": "03225467880293085279"
     },
     "user_tz": -330
    },
    "id": "D299KvaFLAtu",
    "outputId": "dcbeb3e4-4063-4dfb-dcb2-73c1faecdd74",
    "papermill": {
     "duration": 0.032195,
     "end_time": "2023-05-20T12:47:49.870989",
     "exception": false,
     "start_time": "2023-05-20T12:47:49.838794",
     "status": "completed"
    },
    "tags": []
   },
   "outputs": [
    {
     "data": {
      "text/plain": [
       "30"
      ]
     },
     "execution_count": 17,
     "metadata": {},
     "output_type": "execute_result"
    }
   ],
   "source": [
    "len(topic_desc_tags)"
   ]
  },
  {
   "cell_type": "code",
   "execution_count": 18,
   "id": "88898077",
   "metadata": {
    "execution": {
     "iopub.execute_input": "2023-05-20T12:47:49.921377Z",
     "iopub.status.busy": "2023-05-20T12:47:49.920936Z",
     "iopub.status.idle": "2023-05-20T12:47:49.926717Z",
     "shell.execute_reply": "2023-05-20T12:47:49.926029Z"
    },
    "executionInfo": {
     "elapsed": 11,
     "status": "ok",
     "timestamp": 1684513746950,
     "user": {
      "displayName": "Brijesh Yadav",
      "userId": "03225467880293085279"
     },
     "user_tz": -330
    },
    "id": "yrllku5GLBC4",
    "outputId": "68f3329e-d8fd-4c4f-b276-99a73110b3d6",
    "papermill": {
     "duration": 0.033153,
     "end_time": "2023-05-20T12:47:49.928530",
     "exception": false,
     "start_time": "2023-05-20T12:47:49.895377",
     "status": "completed"
    },
    "tags": []
   },
   "outputs": [
    {
     "data": {
      "text/plain": [
       "[<p class=\"f5 color-fg-muted mb-0 mt-1\">\n",
       "           3D refers to the use of three-dimensional graphics, modeling, and animation in various industries.\n",
       "         </p>,\n",
       " <p class=\"f5 color-fg-muted mb-0 mt-1\">\n",
       "           Ajax is a technique for creating interactive web applications.\n",
       "         </p>,\n",
       " <p class=\"f5 color-fg-muted mb-0 mt-1\">\n",
       "           Algorithms are self-contained sequences that carry out a variety of tasks.\n",
       "         </p>,\n",
       " <p class=\"f5 color-fg-muted mb-0 mt-1\">\n",
       "           Amp is a non-blocking concurrency library for PHP.\n",
       "         </p>,\n",
       " <p class=\"f5 color-fg-muted mb-0 mt-1\">\n",
       "           Android is an operating system built by Google designed for mobile devices.\n",
       "         </p>]"
      ]
     },
     "execution_count": 18,
     "metadata": {},
     "output_type": "execute_result"
    }
   ],
   "source": [
    "topic_desc_tags[:5]"
   ]
  },
  {
   "cell_type": "markdown",
   "id": "9b055ea8",
   "metadata": {
    "id": "FGdO9T5kMAVy",
    "papermill": {
     "duration": 0.02425,
     "end_time": "2023-05-20T12:47:49.977138",
     "exception": false,
     "start_time": "2023-05-20T12:47:49.952888",
     "status": "completed"
    },
    "tags": []
   },
   "source": [
    "### we also need the url to the topic page"
   ]
  },
  {
   "cell_type": "code",
   "execution_count": 19,
   "id": "91851f6e",
   "metadata": {
    "execution": {
     "iopub.execute_input": "2023-05-20T12:47:50.027610Z",
     "iopub.status.busy": "2023-05-20T12:47:50.027211Z",
     "iopub.status.idle": "2023-05-20T12:47:50.036851Z",
     "shell.execute_reply": "2023-05-20T12:47:50.035938Z"
    },
    "executionInfo": {
     "elapsed": 669,
     "status": "ok",
     "timestamp": 1684513756279,
     "user": {
      "displayName": "Brijesh Yadav",
      "userId": "03225467880293085279"
     },
     "user_tz": -330
    },
    "id": "-8lTbpHzMAYS",
    "papermill": {
     "duration": 0.03727,
     "end_time": "2023-05-20T12:47:50.038942",
     "exception": false,
     "start_time": "2023-05-20T12:47:50.001672",
     "status": "completed"
    },
    "tags": []
   },
   "outputs": [],
   "source": [
    "topic_link=\"no-underline flex-1 d-flex flex-column\"\n",
    "topic_link_tags=parsed_doc.find_all('a',{'class':topic_link})"
   ]
  },
  {
   "cell_type": "code",
   "execution_count": 20,
   "id": "37f7e553",
   "metadata": {
    "execution": {
     "iopub.execute_input": "2023-05-20T12:47:50.089284Z",
     "iopub.status.busy": "2023-05-20T12:47:50.088906Z",
     "iopub.status.idle": "2023-05-20T12:47:50.094364Z",
     "shell.execute_reply": "2023-05-20T12:47:50.093657Z"
    },
    "executionInfo": {
     "elapsed": 9,
     "status": "ok",
     "timestamp": 1684513756281,
     "user": {
      "displayName": "Brijesh Yadav",
      "userId": "03225467880293085279"
     },
     "user_tz": -330
    },
    "id": "8kwzNuzlMAa9",
    "outputId": "f47e823e-1723-47b2-b0ef-5695e3e78222",
    "papermill": {
     "duration": 0.032755,
     "end_time": "2023-05-20T12:47:50.096147",
     "exception": false,
     "start_time": "2023-05-20T12:47:50.063392",
     "status": "completed"
    },
    "tags": []
   },
   "outputs": [
    {
     "data": {
      "text/plain": [
       "30"
      ]
     },
     "execution_count": 20,
     "metadata": {},
     "output_type": "execute_result"
    }
   ],
   "source": [
    "len(topic_link_tags)"
   ]
  },
  {
   "cell_type": "markdown",
   "id": "73124bdf",
   "metadata": {
    "id": "m39Cmf21Pt4D",
    "papermill": {
     "duration": 0.024231,
     "end_time": "2023-05-20T12:47:50.144978",
     "exception": false,
     "start_time": "2023-05-20T12:47:50.120747",
     "status": "completed"
    },
    "tags": []
   },
   "source": [
    "### this is how we can take one link"
   ]
  },
  {
   "cell_type": "code",
   "execution_count": 21,
   "id": "26a49f82",
   "metadata": {
    "execution": {
     "iopub.execute_input": "2023-05-20T12:47:50.196000Z",
     "iopub.status.busy": "2023-05-20T12:47:50.195389Z",
     "iopub.status.idle": "2023-05-20T12:47:50.200509Z",
     "shell.execute_reply": "2023-05-20T12:47:50.199745Z"
    },
    "executionInfo": {
     "elapsed": 1168,
     "status": "ok",
     "timestamp": 1684513764786,
     "user": {
      "displayName": "Brijesh Yadav",
      "userId": "03225467880293085279"
     },
     "user_tz": -330
    },
    "id": "uqXpd92dMAgb",
    "outputId": "719c0ea1-fe2a-4d46-a28d-d7793b9e6061",
    "papermill": {
     "duration": 0.033042,
     "end_time": "2023-05-20T12:47:50.202328",
     "exception": false,
     "start_time": "2023-05-20T12:47:50.169286",
     "status": "completed"
    },
    "tags": []
   },
   "outputs": [
    {
     "data": {
      "text/plain": [
       "'/topics/3d'"
      ]
     },
     "execution_count": 21,
     "metadata": {},
     "output_type": "execute_result"
    }
   ],
   "source": [
    "topic_link_tags[0]['href']"
   ]
  },
  {
   "cell_type": "code",
   "execution_count": 22,
   "id": "61c9a012",
   "metadata": {
    "execution": {
     "iopub.execute_input": "2023-05-20T12:47:50.253491Z",
     "iopub.status.busy": "2023-05-20T12:47:50.252892Z",
     "iopub.status.idle": "2023-05-20T12:47:50.256341Z",
     "shell.execute_reply": "2023-05-20T12:47:50.255653Z"
    },
    "executionInfo": {
     "elapsed": 4,
     "status": "ok",
     "timestamp": 1684513767788,
     "user": {
      "displayName": "Brijesh Yadav",
      "userId": "03225467880293085279"
     },
     "user_tz": -330
    },
    "id": "uBX2GfA4Pyjy",
    "papermill": {
     "duration": 0.031238,
     "end_time": "2023-05-20T12:47:50.258147",
     "exception": false,
     "start_time": "2023-05-20T12:47:50.226909",
     "status": "completed"
    },
    "tags": []
   },
   "outputs": [],
   "source": [
    "### add https before and append the topic_tag_link to get required full url"
   ]
  },
  {
   "cell_type": "code",
   "execution_count": 23,
   "id": "299b29e9",
   "metadata": {
    "execution": {
     "iopub.execute_input": "2023-05-20T12:47:50.309515Z",
     "iopub.status.busy": "2023-05-20T12:47:50.308930Z",
     "iopub.status.idle": "2023-05-20T12:47:50.314613Z",
     "shell.execute_reply": "2023-05-20T12:47:50.313706Z"
    },
    "executionInfo": {
     "elapsed": 13,
     "status": "ok",
     "timestamp": 1684513768203,
     "user": {
      "displayName": "Brijesh Yadav",
      "userId": "03225467880293085279"
     },
     "user_tz": -330
    },
    "id": "hbVuFVgHPSSE",
    "outputId": "ac0100b7-f20d-4f58-a615-06f0d39e40c2",
    "papermill": {
     "duration": 0.033885,
     "end_time": "2023-05-20T12:47:50.316635",
     "exception": false,
     "start_time": "2023-05-20T12:47:50.282750",
     "status": "completed"
    },
    "tags": []
   },
   "outputs": [
    {
     "data": {
      "text/plain": [
       "'https://github.com/topics/3d'"
      ]
     },
     "execution_count": 23,
     "metadata": {},
     "output_type": "execute_result"
    }
   ],
   "source": [
    "'https://github.com'+topic_link_tags[0]['href']"
   ]
  },
  {
   "cell_type": "markdown",
   "id": "1d3d48c9",
   "metadata": {
    "id": "W68oDGshPSVM",
    "papermill": {
     "duration": 0.02499,
     "end_time": "2023-05-20T12:47:50.367130",
     "exception": false,
     "start_time": "2023-05-20T12:47:50.342140",
     "status": "completed"
    },
    "tags": []
   },
   "source": [
    "### generating the whole url"
   ]
  },
  {
   "cell_type": "code",
   "execution_count": 24,
   "id": "b1074dd3",
   "metadata": {
    "execution": {
     "iopub.execute_input": "2023-05-20T12:47:50.418573Z",
     "iopub.status.busy": "2023-05-20T12:47:50.418215Z",
     "iopub.status.idle": "2023-05-20T12:47:50.423309Z",
     "shell.execute_reply": "2023-05-20T12:47:50.422368Z"
    },
    "executionInfo": {
     "elapsed": 486,
     "status": "ok",
     "timestamp": 1684513884721,
     "user": {
      "displayName": "Brijesh Yadav",
      "userId": "03225467880293085279"
     },
     "user_tz": -330
    },
    "id": "ORQMqZa7PSYh",
    "outputId": "f6117205-54d6-433c-8fa2-882c3459dd6f",
    "papermill": {
     "duration": 0.03394,
     "end_time": "2023-05-20T12:47:50.425958",
     "exception": false,
     "start_time": "2023-05-20T12:47:50.392018",
     "status": "completed"
    },
    "tags": []
   },
   "outputs": [
    {
     "name": "stdout",
     "output_type": "stream",
     "text": [
      "https://github.com/topics/3d\n",
      "https://github.com/topics/ajax\n",
      "https://github.com/topics/algorithm\n",
      "https://github.com/topics/amphp\n",
      "https://github.com/topics/android\n",
      "https://github.com/topics/angular\n",
      "https://github.com/topics/ansible\n",
      "https://github.com/topics/api\n",
      "https://github.com/topics/arduino\n",
      "https://github.com/topics/aspnet\n",
      "https://github.com/topics/atom\n",
      "https://github.com/topics/awesome\n",
      "https://github.com/topics/aws\n",
      "https://github.com/topics/azure\n",
      "https://github.com/topics/babel\n",
      "https://github.com/topics/bash\n",
      "https://github.com/topics/bitcoin\n",
      "https://github.com/topics/bootstrap\n",
      "https://github.com/topics/bot\n",
      "https://github.com/topics/c\n",
      "https://github.com/topics/chrome\n",
      "https://github.com/topics/chrome-extension\n",
      "https://github.com/topics/cli\n",
      "https://github.com/topics/clojure\n",
      "https://github.com/topics/code-quality\n",
      "https://github.com/topics/code-review\n",
      "https://github.com/topics/compiler\n",
      "https://github.com/topics/continuous-integration\n",
      "https://github.com/topics/covid-19\n",
      "https://github.com/topics/cpp\n"
     ]
    }
   ],
   "source": [
    "for i in topic_link_tags:\n",
    "  print('https://github.com'+i['href'])\n"
   ]
  },
  {
   "cell_type": "markdown",
   "id": "d20c8393",
   "metadata": {
    "id": "fI59PrYdPScu",
    "papermill": {
     "duration": 0.024706,
     "end_time": "2023-05-20T12:47:50.475673",
     "exception": false,
     "start_time": "2023-05-20T12:47:50.450967",
     "status": "completed"
    },
    "tags": []
   },
   "source": [
    "### now creating the list of topic title and appending the text part of each topic title tag inside the list"
   ]
  },
  {
   "cell_type": "code",
   "execution_count": 25,
   "id": "dab69a3a",
   "metadata": {
    "execution": {
     "iopub.execute_input": "2023-05-20T12:47:50.527047Z",
     "iopub.status.busy": "2023-05-20T12:47:50.526697Z",
     "iopub.status.idle": "2023-05-20T12:47:50.532243Z",
     "shell.execute_reply": "2023-05-20T12:47:50.531290Z"
    },
    "executionInfo": {
     "elapsed": 13,
     "status": "ok",
     "timestamp": 1684513886476,
     "user": {
      "displayName": "Brijesh Yadav",
      "userId": "03225467880293085279"
     },
     "user_tz": -330
    },
    "id": "Q-vj6qsVQvHU",
    "outputId": "40aef600-e692-4fad-b285-8a6c5eb9ff5b",
    "papermill": {
     "duration": 0.033719,
     "end_time": "2023-05-20T12:47:50.534197",
     "exception": false,
     "start_time": "2023-05-20T12:47:50.500478",
     "status": "completed"
    },
    "tags": []
   },
   "outputs": [
    {
     "data": {
      "text/plain": [
       "'3D'"
      ]
     },
     "execution_count": 25,
     "metadata": {},
     "output_type": "execute_result"
    }
   ],
   "source": [
    "topic_title=[]\n",
    "topic_title_tags[0].text\n"
   ]
  },
  {
   "cell_type": "code",
   "execution_count": 26,
   "id": "e0d85c2a",
   "metadata": {
    "execution": {
     "iopub.execute_input": "2023-05-20T12:47:50.586213Z",
     "iopub.status.busy": "2023-05-20T12:47:50.585877Z",
     "iopub.status.idle": "2023-05-20T12:47:50.590899Z",
     "shell.execute_reply": "2023-05-20T12:47:50.589870Z"
    },
    "executionInfo": {
     "elapsed": 6,
     "status": "ok",
     "timestamp": 1684513887663,
     "user": {
      "displayName": "Brijesh Yadav",
      "userId": "03225467880293085279"
     },
     "user_tz": -330
    },
    "id": "-a2Ge419QvJ6",
    "outputId": "f2e3bcf7-6f52-4de0-8b4c-54dc9b48e9ef",
    "papermill": {
     "duration": 0.033542,
     "end_time": "2023-05-20T12:47:50.592991",
     "exception": false,
     "start_time": "2023-05-20T12:47:50.559449",
     "status": "completed"
    },
    "tags": []
   },
   "outputs": [
    {
     "name": "stdout",
     "output_type": "stream",
     "text": [
      "3D\n"
     ]
    }
   ],
   "source": [
    "#getting the each tag and extracting the text part of topic title to list\n",
    "for i in topic_title_tags:\n",
    "  topic_title.append(i.text)\n",
    "print(topic_title[0])\n"
   ]
  },
  {
   "cell_type": "code",
   "execution_count": 27,
   "id": "4e6dd208",
   "metadata": {
    "execution": {
     "iopub.execute_input": "2023-05-20T12:47:50.644392Z",
     "iopub.status.busy": "2023-05-20T12:47:50.644019Z",
     "iopub.status.idle": "2023-05-20T12:47:50.650076Z",
     "shell.execute_reply": "2023-05-20T12:47:50.649009Z"
    },
    "executionInfo": {
     "elapsed": 525,
     "status": "ok",
     "timestamp": 1684513899132,
     "user": {
      "displayName": "Brijesh Yadav",
      "userId": "03225467880293085279"
     },
     "user_tz": -330
    },
    "id": "_xEkjNzgeqQV",
    "outputId": "781d01b2-cdd1-4879-a693-3593eeeef469",
    "papermill": {
     "duration": 0.034408,
     "end_time": "2023-05-20T12:47:50.652157",
     "exception": false,
     "start_time": "2023-05-20T12:47:50.617749",
     "status": "completed"
    },
    "tags": []
   },
   "outputs": [
    {
     "data": {
      "text/plain": [
       "30"
      ]
     },
     "execution_count": 27,
     "metadata": {},
     "output_type": "execute_result"
    }
   ],
   "source": [
    "len(topic_title)"
   ]
  },
  {
   "cell_type": "markdown",
   "id": "10bf5322",
   "metadata": {
    "id": "EjlmRfQ3PSgN",
    "papermill": {
     "duration": 0.024894,
     "end_time": "2023-05-20T12:47:50.702379",
     "exception": false,
     "start_time": "2023-05-20T12:47:50.677485",
     "status": "completed"
    },
    "tags": []
   },
   "source": [
    "### now creating the list of topic_title_desc and appending the desc. part of each topic title tag into the list"
   ]
  },
  {
   "cell_type": "code",
   "execution_count": 28,
   "id": "211cf59e",
   "metadata": {
    "execution": {
     "iopub.execute_input": "2023-05-20T12:47:50.754374Z",
     "iopub.status.busy": "2023-05-20T12:47:50.753991Z",
     "iopub.status.idle": "2023-05-20T12:47:50.760514Z",
     "shell.execute_reply": "2023-05-20T12:47:50.759463Z"
    },
    "executionInfo": {
     "elapsed": 454,
     "status": "ok",
     "timestamp": 1684513906202,
     "user": {
      "displayName": "Brijesh Yadav",
      "userId": "03225467880293085279"
     },
     "user_tz": -330
    },
    "id": "GKQuzIPkR1lD",
    "outputId": "6ab29361-2819-4be1-c9b8-49e355edd786",
    "papermill": {
     "duration": 0.034959,
     "end_time": "2023-05-20T12:47:50.762438",
     "exception": false,
     "start_time": "2023-05-20T12:47:50.727479",
     "status": "completed"
    },
    "tags": []
   },
   "outputs": [
    {
     "data": {
      "text/plain": [
       "'\\n          3D refers to the use of three-dimensional graphics, modeling, and animation in various industries.\\n        '"
      ]
     },
     "execution_count": 28,
     "metadata": {},
     "output_type": "execute_result"
    }
   ],
   "source": [
    "topic_desc_tags[0].text"
   ]
  },
  {
   "cell_type": "code",
   "execution_count": 29,
   "id": "7b3f4a9a",
   "metadata": {
    "execution": {
     "iopub.execute_input": "2023-05-20T12:47:50.816191Z",
     "iopub.status.busy": "2023-05-20T12:47:50.815445Z",
     "iopub.status.idle": "2023-05-20T12:47:50.821788Z",
     "shell.execute_reply": "2023-05-20T12:47:50.820687Z"
    },
    "executionInfo": {
     "elapsed": 5,
     "status": "ok",
     "timestamp": 1684513906629,
     "user": {
      "displayName": "Brijesh Yadav",
      "userId": "03225467880293085279"
     },
     "user_tz": -330
    },
    "id": "8zkE665QR1nz",
    "papermill": {
     "duration": 0.035451,
     "end_time": "2023-05-20T12:47:50.823747",
     "exception": false,
     "start_time": "2023-05-20T12:47:50.788296",
     "status": "completed"
    },
    "tags": []
   },
   "outputs": [],
   "source": [
    "topic_desc=[]\n",
    "for i in topic_desc_tags:\n",
    "  topic_desc.append(i.text.strip())# this strip method is used to remove the spaces from the text or string from the start and from the end"
   ]
  },
  {
   "cell_type": "code",
   "execution_count": 30,
   "id": "f8bef78f",
   "metadata": {
    "execution": {
     "iopub.execute_input": "2023-05-20T12:47:50.885470Z",
     "iopub.status.busy": "2023-05-20T12:47:50.885010Z",
     "iopub.status.idle": "2023-05-20T12:47:50.892130Z",
     "shell.execute_reply": "2023-05-20T12:47:50.891084Z"
    },
    "executionInfo": {
     "elapsed": 13,
     "status": "ok",
     "timestamp": 1684513908791,
     "user": {
      "displayName": "Brijesh Yadav",
      "userId": "03225467880293085279"
     },
     "user_tz": -330
    },
    "id": "Be57iv2FR1q1",
    "outputId": "a66019fe-714c-49f4-ad6d-2a68feab51dd",
    "papermill": {
     "duration": 0.042819,
     "end_time": "2023-05-20T12:47:50.894364",
     "exception": false,
     "start_time": "2023-05-20T12:47:50.851545",
     "status": "completed"
    },
    "tags": []
   },
   "outputs": [
    {
     "data": {
      "text/plain": [
       "'3D refers to the use of three-dimensional graphics, modeling, and animation in various industries.'"
      ]
     },
     "execution_count": 30,
     "metadata": {},
     "output_type": "execute_result"
    }
   ],
   "source": [
    "topic_desc[0]"
   ]
  },
  {
   "cell_type": "code",
   "execution_count": 31,
   "id": "3ad73888",
   "metadata": {
    "execution": {
     "iopub.execute_input": "2023-05-20T12:47:50.951994Z",
     "iopub.status.busy": "2023-05-20T12:47:50.951241Z",
     "iopub.status.idle": "2023-05-20T12:47:50.957533Z",
     "shell.execute_reply": "2023-05-20T12:47:50.956737Z"
    },
    "executionInfo": {
     "elapsed": 10,
     "status": "ok",
     "timestamp": 1684513910426,
     "user": {
      "displayName": "Brijesh Yadav",
      "userId": "03225467880293085279"
     },
     "user_tz": -330
    },
    "id": "pWyzJR-IefNJ",
    "outputId": "686ef06b-59ae-4e27-a567-89cb11c677b7",
    "papermill": {
     "duration": 0.035077,
     "end_time": "2023-05-20T12:47:50.959417",
     "exception": false,
     "start_time": "2023-05-20T12:47:50.924340",
     "status": "completed"
    },
    "tags": []
   },
   "outputs": [
    {
     "data": {
      "text/plain": [
       "30"
      ]
     },
     "execution_count": 31,
     "metadata": {},
     "output_type": "execute_result"
    }
   ],
   "source": [
    "len(topic_desc)"
   ]
  },
  {
   "cell_type": "markdown",
   "id": "06304b10",
   "metadata": {
    "id": "KR2EFmMcR1tl",
    "papermill": {
     "duration": 0.025129,
     "end_time": "2023-05-20T12:47:51.010029",
     "exception": false,
     "start_time": "2023-05-20T12:47:50.984900",
     "status": "completed"
    },
    "tags": []
   },
   "source": [
    "### now creating the list of topic url for storing the each topic url"
   ]
  },
  {
   "cell_type": "code",
   "execution_count": 32,
   "id": "c401dfcd",
   "metadata": {
    "execution": {
     "iopub.execute_input": "2023-05-20T12:47:51.062699Z",
     "iopub.status.busy": "2023-05-20T12:47:51.062334Z",
     "iopub.status.idle": "2023-05-20T12:47:51.067170Z",
     "shell.execute_reply": "2023-05-20T12:47:51.066086Z"
    },
    "executionInfo": {
     "elapsed": 7,
     "status": "ok",
     "timestamp": 1684513910932,
     "user": {
      "displayName": "Brijesh Yadav",
      "userId": "03225467880293085279"
     },
     "user_tz": -330
    },
    "id": "GtuTcuOMR1wW",
    "papermill": {
     "duration": 0.033871,
     "end_time": "2023-05-20T12:47:51.069173",
     "exception": false,
     "start_time": "2023-05-20T12:47:51.035302",
     "status": "completed"
    },
    "tags": []
   },
   "outputs": [],
   "source": [
    "topic_url_list=[]\n",
    "for i in topic_link_tags:\n",
    "  topic_url_list.append('https://github.com'+i['href'])"
   ]
  },
  {
   "cell_type": "code",
   "execution_count": 33,
   "id": "525b85f7",
   "metadata": {
    "execution": {
     "iopub.execute_input": "2023-05-20T12:47:51.121566Z",
     "iopub.status.busy": "2023-05-20T12:47:51.121210Z",
     "iopub.status.idle": "2023-05-20T12:47:51.127046Z",
     "shell.execute_reply": "2023-05-20T12:47:51.126122Z"
    },
    "executionInfo": {
     "elapsed": 8,
     "status": "ok",
     "timestamp": 1684513911434,
     "user": {
      "displayName": "Brijesh Yadav",
      "userId": "03225467880293085279"
     },
     "user_tz": -330
    },
    "id": "Hk0KXnsRTwn3",
    "outputId": "5c3d8663-e62c-4a16-a71d-d36be968d126",
    "papermill": {
     "duration": 0.034366,
     "end_time": "2023-05-20T12:47:51.129151",
     "exception": false,
     "start_time": "2023-05-20T12:47:51.094785",
     "status": "completed"
    },
    "tags": []
   },
   "outputs": [
    {
     "data": {
      "text/plain": [
       "'https://github.com/topics/3d'"
      ]
     },
     "execution_count": 33,
     "metadata": {},
     "output_type": "execute_result"
    }
   ],
   "source": [
    "topic_url_list[0]"
   ]
  },
  {
   "cell_type": "code",
   "execution_count": 34,
   "id": "8269b9a8",
   "metadata": {
    "execution": {
     "iopub.execute_input": "2023-05-20T12:47:51.182699Z",
     "iopub.status.busy": "2023-05-20T12:47:51.182358Z",
     "iopub.status.idle": "2023-05-20T12:47:51.188501Z",
     "shell.execute_reply": "2023-05-20T12:47:51.187471Z"
    },
    "executionInfo": {
     "elapsed": 6,
     "status": "ok",
     "timestamp": 1684513913501,
     "user": {
      "displayName": "Brijesh Yadav",
      "userId": "03225467880293085279"
     },
     "user_tz": -330
    },
    "id": "P_nsUeAWeazr",
    "outputId": "08c920f0-1165-484f-b084-29a6d0fc8c63",
    "papermill": {
     "duration": 0.035246,
     "end_time": "2023-05-20T12:47:51.190528",
     "exception": false,
     "start_time": "2023-05-20T12:47:51.155282",
     "status": "completed"
    },
    "tags": []
   },
   "outputs": [
    {
     "data": {
      "text/plain": [
       "30"
      ]
     },
     "execution_count": 34,
     "metadata": {},
     "output_type": "execute_result"
    }
   ],
   "source": [
    "len(topic_url_list)"
   ]
  },
  {
   "cell_type": "markdown",
   "id": "b5f09812",
   "metadata": {
    "id": "VyDQIlyVTw_7",
    "papermill": {
     "duration": 0.02509,
     "end_time": "2023-05-20T12:47:51.241432",
     "exception": false,
     "start_time": "2023-05-20T12:47:51.216342",
     "status": "completed"
    },
    "tags": []
   },
   "source": [
    "# ---->>>>>now till here we have extracted all the topic name desc of the topic and the url of each topic and stored each of them seperately"
   ]
  },
  {
   "cell_type": "markdown",
   "id": "ad2b1b09",
   "metadata": {
    "id": "V-hnyx98fKpe",
    "papermill": {
     "duration": 0.02533,
     "end_time": "2023-05-20T12:47:51.292431",
     "exception": false,
     "start_time": "2023-05-20T12:47:51.267101",
     "status": "completed"
    },
    "tags": []
   },
   "source": [
    "# now creating the dataFrame from the list of topic, topic_desc and topic_url "
   ]
  },
  {
   "cell_type": "code",
   "execution_count": 35,
   "id": "271c398b",
   "metadata": {
    "execution": {
     "iopub.execute_input": "2023-05-20T12:47:51.345227Z",
     "iopub.status.busy": "2023-05-20T12:47:51.344571Z",
     "iopub.status.idle": "2023-05-20T12:48:01.661956Z",
     "shell.execute_reply": "2023-05-20T12:48:01.660701Z"
    },
    "executionInfo": {
     "elapsed": 4448,
     "status": "ok",
     "timestamp": 1684513922120,
     "user": {
      "displayName": "Brijesh Yadav",
      "userId": "03225467880293085279"
     },
     "user_tz": -330
    },
    "id": "oC_-kEY5b6-V",
    "papermill": {
     "duration": 10.346736,
     "end_time": "2023-05-20T12:48:01.664495",
     "exception": false,
     "start_time": "2023-05-20T12:47:51.317759",
     "status": "completed"
    },
    "tags": []
   },
   "outputs": [
    {
     "name": "stdout",
     "output_type": "stream",
     "text": [
      "\u001b[33mWARNING: Running pip as the 'root' user can result in broken permissions and conflicting behaviour with the system package manager. It is recommended to use a virtual environment instead: https://pip.pypa.io/warnings/venv\u001b[0m\u001b[33m\r\n",
      "\u001b[0m"
     ]
    }
   ],
   "source": [
    "!pip install pandas --quiet"
   ]
  },
  {
   "cell_type": "code",
   "execution_count": 36,
   "id": "88fe715a",
   "metadata": {
    "execution": {
     "iopub.execute_input": "2023-05-20T12:48:01.719260Z",
     "iopub.status.busy": "2023-05-20T12:48:01.718876Z",
     "iopub.status.idle": "2023-05-20T12:48:01.723223Z",
     "shell.execute_reply": "2023-05-20T12:48:01.722361Z"
    },
    "executionInfo": {
     "elapsed": 16,
     "status": "ok",
     "timestamp": 1684513922121,
     "user": {
      "displayName": "Brijesh Yadav",
      "userId": "03225467880293085279"
     },
     "user_tz": -330
    },
    "id": "OcrkvhD7b7BZ",
    "papermill": {
     "duration": 0.034372,
     "end_time": "2023-05-20T12:48:01.725241",
     "exception": false,
     "start_time": "2023-05-20T12:48:01.690869",
     "status": "completed"
    },
    "tags": []
   },
   "outputs": [],
   "source": [
    "import pandas as pd\n"
   ]
  },
  {
   "cell_type": "markdown",
   "id": "7d42e692",
   "metadata": {
    "id": "WSdeER8CcKd9",
    "papermill": {
     "duration": 0.026068,
     "end_time": "2023-05-20T12:48:01.777602",
     "exception": false,
     "start_time": "2023-05-20T12:48:01.751534",
     "status": "completed"
    },
    "tags": []
   },
   "source": [
    "creating the dict of all the list where columns name will act as key and list will act as column data"
   ]
  },
  {
   "cell_type": "code",
   "execution_count": 37,
   "id": "27c2ca03",
   "metadata": {
    "execution": {
     "iopub.execute_input": "2023-05-20T12:48:01.836526Z",
     "iopub.status.busy": "2023-05-20T12:48:01.835947Z",
     "iopub.status.idle": "2023-05-20T12:48:01.841540Z",
     "shell.execute_reply": "2023-05-20T12:48:01.840437Z"
    },
    "executionInfo": {
     "elapsed": 757,
     "status": "ok",
     "timestamp": 1684515096874,
     "user": {
      "displayName": "Brijesh Yadav",
      "userId": "03225467880293085279"
     },
     "user_tz": -330
    },
    "id": "VAJLDqkycKjz",
    "papermill": {
     "duration": 0.040289,
     "end_time": "2023-05-20T12:48:01.844296",
     "exception": false,
     "start_time": "2023-05-20T12:48:01.804007",
     "status": "completed"
    },
    "tags": []
   },
   "outputs": [],
   "source": [
    "dict={'topic_title':topic_title,\n",
    "      'topic_desc':topic_desc,\n",
    "      'topic_url':topic_url_list\n",
    "      }\n",
    "  "
   ]
  },
  {
   "cell_type": "code",
   "execution_count": 38,
   "id": "164ae093",
   "metadata": {
    "execution": {
     "iopub.execute_input": "2023-05-20T12:48:01.910752Z",
     "iopub.status.busy": "2023-05-20T12:48:01.909984Z",
     "iopub.status.idle": "2023-05-20T12:48:01.921657Z",
     "shell.execute_reply": "2023-05-20T12:48:01.920764Z"
    },
    "executionInfo": {
     "elapsed": 8,
     "status": "ok",
     "timestamp": 1684515096877,
     "user": {
      "displayName": "Brijesh Yadav",
      "userId": "03225467880293085279"
     },
     "user_tz": -330
    },
    "id": "Q0DKsJitcKpy",
    "papermill": {
     "duration": 0.048126,
     "end_time": "2023-05-20T12:48:01.923640",
     "exception": false,
     "start_time": "2023-05-20T12:48:01.875514",
     "status": "completed"
    },
    "tags": []
   },
   "outputs": [],
   "source": [
    "topics_df=pd.DataFrame(dict)"
   ]
  },
  {
   "cell_type": "code",
   "execution_count": 39,
   "id": "3271e86a",
   "metadata": {
    "execution": {
     "iopub.execute_input": "2023-05-20T12:48:01.977671Z",
     "iopub.status.busy": "2023-05-20T12:48:01.977323Z",
     "iopub.status.idle": "2023-05-20T12:48:02.004498Z",
     "shell.execute_reply": "2023-05-20T12:48:02.003783Z"
    },
    "executionInfo": {
     "elapsed": 12,
     "status": "ok",
     "timestamp": 1684515098122,
     "user": {
      "displayName": "Brijesh Yadav",
      "userId": "03225467880293085279"
     },
     "user_tz": -330
    },
    "id": "2G_Ud8FVfCaw",
    "outputId": "af4997a3-85a7-4ddc-b4f5-6b434875a593",
    "papermill": {
     "duration": 0.056676,
     "end_time": "2023-05-20T12:48:02.006402",
     "exception": false,
     "start_time": "2023-05-20T12:48:01.949726",
     "status": "completed"
    },
    "tags": []
   },
   "outputs": [
    {
     "data": {
      "text/html": [
       "<div>\n",
       "<style scoped>\n",
       "    .dataframe tbody tr th:only-of-type {\n",
       "        vertical-align: middle;\n",
       "    }\n",
       "\n",
       "    .dataframe tbody tr th {\n",
       "        vertical-align: top;\n",
       "    }\n",
       "\n",
       "    .dataframe thead th {\n",
       "        text-align: right;\n",
       "    }\n",
       "</style>\n",
       "<table border=\"1\" class=\"dataframe\">\n",
       "  <thead>\n",
       "    <tr style=\"text-align: right;\">\n",
       "      <th></th>\n",
       "      <th>topic_title</th>\n",
       "      <th>topic_desc</th>\n",
       "      <th>topic_url</th>\n",
       "    </tr>\n",
       "  </thead>\n",
       "  <tbody>\n",
       "    <tr>\n",
       "      <th>0</th>\n",
       "      <td>3D</td>\n",
       "      <td>3D refers to the use of three-dimensional grap...</td>\n",
       "      <td>https://github.com/topics/3d</td>\n",
       "    </tr>\n",
       "    <tr>\n",
       "      <th>1</th>\n",
       "      <td>Ajax</td>\n",
       "      <td>Ajax is a technique for creating interactive w...</td>\n",
       "      <td>https://github.com/topics/ajax</td>\n",
       "    </tr>\n",
       "    <tr>\n",
       "      <th>2</th>\n",
       "      <td>Algorithm</td>\n",
       "      <td>Algorithms are self-contained sequences that c...</td>\n",
       "      <td>https://github.com/topics/algorithm</td>\n",
       "    </tr>\n",
       "    <tr>\n",
       "      <th>3</th>\n",
       "      <td>Amp</td>\n",
       "      <td>Amp is a non-blocking concurrency library for ...</td>\n",
       "      <td>https://github.com/topics/amphp</td>\n",
       "    </tr>\n",
       "    <tr>\n",
       "      <th>4</th>\n",
       "      <td>Android</td>\n",
       "      <td>Android is an operating system built by Google...</td>\n",
       "      <td>https://github.com/topics/android</td>\n",
       "    </tr>\n",
       "    <tr>\n",
       "      <th>5</th>\n",
       "      <td>Angular</td>\n",
       "      <td>Angular is an open source web application plat...</td>\n",
       "      <td>https://github.com/topics/angular</td>\n",
       "    </tr>\n",
       "    <tr>\n",
       "      <th>6</th>\n",
       "      <td>Ansible</td>\n",
       "      <td>Ansible is a simple and powerful automation en...</td>\n",
       "      <td>https://github.com/topics/ansible</td>\n",
       "    </tr>\n",
       "    <tr>\n",
       "      <th>7</th>\n",
       "      <td>API</td>\n",
       "      <td>An API (Application Programming Interface) is ...</td>\n",
       "      <td>https://github.com/topics/api</td>\n",
       "    </tr>\n",
       "    <tr>\n",
       "      <th>8</th>\n",
       "      <td>Arduino</td>\n",
       "      <td>Arduino is an open source platform for buildin...</td>\n",
       "      <td>https://github.com/topics/arduino</td>\n",
       "    </tr>\n",
       "    <tr>\n",
       "      <th>9</th>\n",
       "      <td>ASP.NET</td>\n",
       "      <td>ASP.NET is a web framework for building modern...</td>\n",
       "      <td>https://github.com/topics/aspnet</td>\n",
       "    </tr>\n",
       "    <tr>\n",
       "      <th>10</th>\n",
       "      <td>Atom</td>\n",
       "      <td>Atom is a open source text editor built with w...</td>\n",
       "      <td>https://github.com/topics/atom</td>\n",
       "    </tr>\n",
       "    <tr>\n",
       "      <th>11</th>\n",
       "      <td>Awesome Lists</td>\n",
       "      <td>An awesome list is a list of awesome things cu...</td>\n",
       "      <td>https://github.com/topics/awesome</td>\n",
       "    </tr>\n",
       "    <tr>\n",
       "      <th>12</th>\n",
       "      <td>Amazon Web Services</td>\n",
       "      <td>Amazon Web Services provides on-demand cloud c...</td>\n",
       "      <td>https://github.com/topics/aws</td>\n",
       "    </tr>\n",
       "    <tr>\n",
       "      <th>13</th>\n",
       "      <td>Azure</td>\n",
       "      <td>Azure is a cloud computing service created by ...</td>\n",
       "      <td>https://github.com/topics/azure</td>\n",
       "    </tr>\n",
       "    <tr>\n",
       "      <th>14</th>\n",
       "      <td>Babel</td>\n",
       "      <td>Babel is a compiler for writing next generatio...</td>\n",
       "      <td>https://github.com/topics/babel</td>\n",
       "    </tr>\n",
       "    <tr>\n",
       "      <th>15</th>\n",
       "      <td>Bash</td>\n",
       "      <td>Bash is a shell and command language interpret...</td>\n",
       "      <td>https://github.com/topics/bash</td>\n",
       "    </tr>\n",
       "    <tr>\n",
       "      <th>16</th>\n",
       "      <td>Bitcoin</td>\n",
       "      <td>Bitcoin is a cryptocurrency developed by Satos...</td>\n",
       "      <td>https://github.com/topics/bitcoin</td>\n",
       "    </tr>\n",
       "    <tr>\n",
       "      <th>17</th>\n",
       "      <td>Bootstrap</td>\n",
       "      <td>Bootstrap is an HTML, CSS, and JavaScript fram...</td>\n",
       "      <td>https://github.com/topics/bootstrap</td>\n",
       "    </tr>\n",
       "    <tr>\n",
       "      <th>18</th>\n",
       "      <td>Bot</td>\n",
       "      <td>A bot is an application that runs automated ta...</td>\n",
       "      <td>https://github.com/topics/bot</td>\n",
       "    </tr>\n",
       "    <tr>\n",
       "      <th>19</th>\n",
       "      <td>C</td>\n",
       "      <td>C is a general purpose programming language th...</td>\n",
       "      <td>https://github.com/topics/c</td>\n",
       "    </tr>\n",
       "    <tr>\n",
       "      <th>20</th>\n",
       "      <td>Chrome</td>\n",
       "      <td>Chrome is a web browser from the tech company ...</td>\n",
       "      <td>https://github.com/topics/chrome</td>\n",
       "    </tr>\n",
       "    <tr>\n",
       "      <th>21</th>\n",
       "      <td>Chrome extension</td>\n",
       "      <td>Chrome extensions enable users to customize th...</td>\n",
       "      <td>https://github.com/topics/chrome-extension</td>\n",
       "    </tr>\n",
       "    <tr>\n",
       "      <th>22</th>\n",
       "      <td>Command line interface</td>\n",
       "      <td>A CLI, or command-line interface, is a console...</td>\n",
       "      <td>https://github.com/topics/cli</td>\n",
       "    </tr>\n",
       "    <tr>\n",
       "      <th>23</th>\n",
       "      <td>Clojure</td>\n",
       "      <td>Clojure is a dynamic, general-purpose programm...</td>\n",
       "      <td>https://github.com/topics/clojure</td>\n",
       "    </tr>\n",
       "    <tr>\n",
       "      <th>24</th>\n",
       "      <td>Code quality</td>\n",
       "      <td>Automate your code review with style, quality,...</td>\n",
       "      <td>https://github.com/topics/code-quality</td>\n",
       "    </tr>\n",
       "    <tr>\n",
       "      <th>25</th>\n",
       "      <td>Code review</td>\n",
       "      <td>Ensure your code meets quality standards and s...</td>\n",
       "      <td>https://github.com/topics/code-review</td>\n",
       "    </tr>\n",
       "    <tr>\n",
       "      <th>26</th>\n",
       "      <td>Compiler</td>\n",
       "      <td>Compilers are software that translate higher-l...</td>\n",
       "      <td>https://github.com/topics/compiler</td>\n",
       "    </tr>\n",
       "    <tr>\n",
       "      <th>27</th>\n",
       "      <td>Continuous integration</td>\n",
       "      <td>Automatically build and test your code as you ...</td>\n",
       "      <td>https://github.com/topics/continuous-integration</td>\n",
       "    </tr>\n",
       "    <tr>\n",
       "      <th>28</th>\n",
       "      <td>COVID-19</td>\n",
       "      <td>The coronavirus disease 2019 (COVID-19) is an ...</td>\n",
       "      <td>https://github.com/topics/covid-19</td>\n",
       "    </tr>\n",
       "    <tr>\n",
       "      <th>29</th>\n",
       "      <td>C++</td>\n",
       "      <td>C++ is a general purpose and object-oriented p...</td>\n",
       "      <td>https://github.com/topics/cpp</td>\n",
       "    </tr>\n",
       "  </tbody>\n",
       "</table>\n",
       "</div>"
      ],
      "text/plain": [
       "               topic_title                                         topic_desc  \\\n",
       "0                       3D  3D refers to the use of three-dimensional grap...   \n",
       "1                     Ajax  Ajax is a technique for creating interactive w...   \n",
       "2                Algorithm  Algorithms are self-contained sequences that c...   \n",
       "3                      Amp  Amp is a non-blocking concurrency library for ...   \n",
       "4                  Android  Android is an operating system built by Google...   \n",
       "5                  Angular  Angular is an open source web application plat...   \n",
       "6                  Ansible  Ansible is a simple and powerful automation en...   \n",
       "7                      API  An API (Application Programming Interface) is ...   \n",
       "8                  Arduino  Arduino is an open source platform for buildin...   \n",
       "9                  ASP.NET  ASP.NET is a web framework for building modern...   \n",
       "10                    Atom  Atom is a open source text editor built with w...   \n",
       "11           Awesome Lists  An awesome list is a list of awesome things cu...   \n",
       "12     Amazon Web Services  Amazon Web Services provides on-demand cloud c...   \n",
       "13                   Azure  Azure is a cloud computing service created by ...   \n",
       "14                   Babel  Babel is a compiler for writing next generatio...   \n",
       "15                    Bash  Bash is a shell and command language interpret...   \n",
       "16                 Bitcoin  Bitcoin is a cryptocurrency developed by Satos...   \n",
       "17               Bootstrap  Bootstrap is an HTML, CSS, and JavaScript fram...   \n",
       "18                     Bot  A bot is an application that runs automated ta...   \n",
       "19                       C  C is a general purpose programming language th...   \n",
       "20                  Chrome  Chrome is a web browser from the tech company ...   \n",
       "21        Chrome extension  Chrome extensions enable users to customize th...   \n",
       "22  Command line interface  A CLI, or command-line interface, is a console...   \n",
       "23                 Clojure  Clojure is a dynamic, general-purpose programm...   \n",
       "24            Code quality  Automate your code review with style, quality,...   \n",
       "25             Code review  Ensure your code meets quality standards and s...   \n",
       "26                Compiler  Compilers are software that translate higher-l...   \n",
       "27  Continuous integration  Automatically build and test your code as you ...   \n",
       "28                COVID-19  The coronavirus disease 2019 (COVID-19) is an ...   \n",
       "29                     C++  C++ is a general purpose and object-oriented p...   \n",
       "\n",
       "                                           topic_url  \n",
       "0                       https://github.com/topics/3d  \n",
       "1                     https://github.com/topics/ajax  \n",
       "2                https://github.com/topics/algorithm  \n",
       "3                    https://github.com/topics/amphp  \n",
       "4                  https://github.com/topics/android  \n",
       "5                  https://github.com/topics/angular  \n",
       "6                  https://github.com/topics/ansible  \n",
       "7                      https://github.com/topics/api  \n",
       "8                  https://github.com/topics/arduino  \n",
       "9                   https://github.com/topics/aspnet  \n",
       "10                    https://github.com/topics/atom  \n",
       "11                 https://github.com/topics/awesome  \n",
       "12                     https://github.com/topics/aws  \n",
       "13                   https://github.com/topics/azure  \n",
       "14                   https://github.com/topics/babel  \n",
       "15                    https://github.com/topics/bash  \n",
       "16                 https://github.com/topics/bitcoin  \n",
       "17               https://github.com/topics/bootstrap  \n",
       "18                     https://github.com/topics/bot  \n",
       "19                       https://github.com/topics/c  \n",
       "20                  https://github.com/topics/chrome  \n",
       "21        https://github.com/topics/chrome-extension  \n",
       "22                     https://github.com/topics/cli  \n",
       "23                 https://github.com/topics/clojure  \n",
       "24            https://github.com/topics/code-quality  \n",
       "25             https://github.com/topics/code-review  \n",
       "26                https://github.com/topics/compiler  \n",
       "27  https://github.com/topics/continuous-integration  \n",
       "28                https://github.com/topics/covid-19  \n",
       "29                     https://github.com/topics/cpp  "
      ]
     },
     "execution_count": 39,
     "metadata": {},
     "output_type": "execute_result"
    }
   ],
   "source": [
    "topics_df"
   ]
  },
  {
   "cell_type": "markdown",
   "id": "08eda354",
   "metadata": {
    "id": "Jo0nQ0l44TLI",
    "papermill": {
     "duration": 0.026159,
     "end_time": "2023-05-20T12:48:02.059660",
     "exception": false,
     "start_time": "2023-05-20T12:48:02.033501",
     "status": "completed"
    },
    "tags": []
   },
   "source": [
    "# 4.Create CSV file(s) with the extracted information"
   ]
  },
  {
   "cell_type": "code",
   "execution_count": 40,
   "id": "83925be2",
   "metadata": {
    "execution": {
     "iopub.execute_input": "2023-05-20T12:48:02.113399Z",
     "iopub.status.busy": "2023-05-20T12:48:02.112996Z",
     "iopub.status.idle": "2023-05-20T12:48:02.126116Z",
     "shell.execute_reply": "2023-05-20T12:48:02.125322Z"
    },
    "executionInfo": {
     "elapsed": 440,
     "status": "ok",
     "timestamp": 1684515110416,
     "user": {
      "displayName": "Brijesh Yadav",
      "userId": "03225467880293085279"
     },
     "user_tz": -330
    },
    "id": "FvIDUnMpL-7S",
    "papermill": {
     "duration": 0.04244,
     "end_time": "2023-05-20T12:48:02.128277",
     "exception": false,
     "start_time": "2023-05-20T12:48:02.085837",
     "status": "completed"
    },
    "tags": []
   },
   "outputs": [],
   "source": [
    "topics_df.to_csv('topics_github.csv')"
   ]
  },
  {
   "cell_type": "code",
   "execution_count": null,
   "id": "d64c1cb0",
   "metadata": {
    "id": "eZe8E8lmi3f1",
    "papermill": {
     "duration": 0.025887,
     "end_time": "2023-05-20T12:48:02.181226",
     "exception": false,
     "start_time": "2023-05-20T12:48:02.155339",
     "status": "completed"
    },
    "tags": []
   },
   "outputs": [],
   "source": []
  },
  {
   "cell_type": "markdown",
   "id": "d2185332",
   "metadata": {
    "id": "eCelBOmFho0V",
    "papermill": {
     "duration": 0.025834,
     "end_time": "2023-05-20T12:48:02.233761",
     "exception": false,
     "start_time": "2023-05-20T12:48:02.207927",
     "status": "completed"
    },
    "tags": []
   },
   "source": [
    "# scrap the data from the github topic and stored in the csv file"
   ]
  },
  {
   "cell_type": "markdown",
   "id": "75e9ccc4",
   "metadata": {
    "id": "-wLlfTaIi3cT",
    "papermill": {
     "duration": 0.026023,
     "end_time": "2023-05-20T12:48:02.285916",
     "exception": false,
     "start_time": "2023-05-20T12:48:02.259893",
     "status": "completed"
    },
    "tags": []
   },
   "source": [
    "## getting information out of the each topic page"
   ]
  },
  {
   "cell_type": "markdown",
   "id": "6d4b171b",
   "metadata": {
    "id": "uHmQZjkkfamY",
    "papermill": {
     "duration": 0.025791,
     "end_time": "2023-05-20T12:48:02.337985",
     "exception": false,
     "start_time": "2023-05-20T12:48:02.312194",
     "status": "completed"
    },
    "tags": []
   },
   "source": [
    "# goto to each topic page and get some information from the topic page"
   ]
  },
  {
   "cell_type": "code",
   "execution_count": 41,
   "id": "8d84528d",
   "metadata": {
    "execution": {
     "iopub.execute_input": "2023-05-20T12:48:02.391443Z",
     "iopub.status.busy": "2023-05-20T12:48:02.391046Z",
     "iopub.status.idle": "2023-05-20T12:48:02.397542Z",
     "shell.execute_reply": "2023-05-20T12:48:02.396607Z"
    },
    "executionInfo": {
     "elapsed": 9,
     "status": "ok",
     "timestamp": 1684515125867,
     "user": {
      "displayName": "Brijesh Yadav",
      "userId": "03225467880293085279"
     },
     "user_tz": -330
    },
    "id": "_72isLM-fapH",
    "outputId": "6b8f0cba-1311-4234-a821-b220015ac338",
    "papermill": {
     "duration": 0.035611,
     "end_time": "2023-05-20T12:48:02.399520",
     "exception": false,
     "start_time": "2023-05-20T12:48:02.363909",
     "status": "completed"
    },
    "tags": []
   },
   "outputs": [
    {
     "data": {
      "text/plain": [
       "Index(['topic_title', 'topic_desc', 'topic_url'], dtype='object')"
      ]
     },
     "execution_count": 41,
     "metadata": {},
     "output_type": "execute_result"
    }
   ],
   "source": [
    "topics_df.columns"
   ]
  },
  {
   "cell_type": "code",
   "execution_count": 42,
   "id": "3d038e46",
   "metadata": {
    "execution": {
     "iopub.execute_input": "2023-05-20T12:48:02.453198Z",
     "iopub.status.busy": "2023-05-20T12:48:02.452842Z",
     "iopub.status.idle": "2023-05-20T12:48:02.457031Z",
     "shell.execute_reply": "2023-05-20T12:48:02.456033Z"
    },
    "executionInfo": {
     "elapsed": 6,
     "status": "ok",
     "timestamp": 1684515129019,
     "user": {
      "displayName": "Brijesh Yadav",
      "userId": "03225467880293085279"
     },
     "user_tz": -330
    },
    "id": "BL2T0LHYfasV",
    "papermill": {
     "duration": 0.033384,
     "end_time": "2023-05-20T12:48:02.458981",
     "exception": false,
     "start_time": "2023-05-20T12:48:02.425597",
     "status": "completed"
    },
    "tags": []
   },
   "outputs": [],
   "source": [
    "topics_page_url=topic_url_list[0]"
   ]
  },
  {
   "cell_type": "code",
   "execution_count": 43,
   "id": "16a903b5",
   "metadata": {
    "execution": {
     "iopub.execute_input": "2023-05-20T12:48:02.512899Z",
     "iopub.status.busy": "2023-05-20T12:48:02.512541Z",
     "iopub.status.idle": "2023-05-20T12:48:02.518331Z",
     "shell.execute_reply": "2023-05-20T12:48:02.517320Z"
    },
    "executionInfo": {
     "elapsed": 12,
     "status": "ok",
     "timestamp": 1684515129472,
     "user": {
      "displayName": "Brijesh Yadav",
      "userId": "03225467880293085279"
     },
     "user_tz": -330
    },
    "id": "DhpAvBdyfavV",
    "outputId": "b3689c50-aa14-4e2f-fef0-f4e3118a27d5",
    "papermill": {
     "duration": 0.035428,
     "end_time": "2023-05-20T12:48:02.520652",
     "exception": false,
     "start_time": "2023-05-20T12:48:02.485224",
     "status": "completed"
    },
    "tags": []
   },
   "outputs": [
    {
     "data": {
      "text/plain": [
       "'https://github.com/topics/3d'"
      ]
     },
     "execution_count": 43,
     "metadata": {},
     "output_type": "execute_result"
    }
   ],
   "source": [
    "topics_page_url"
   ]
  },
  {
   "cell_type": "code",
   "execution_count": 44,
   "id": "23450378",
   "metadata": {
    "execution": {
     "iopub.execute_input": "2023-05-20T12:48:02.574621Z",
     "iopub.status.busy": "2023-05-20T12:48:02.574213Z",
     "iopub.status.idle": "2023-05-20T12:48:04.367514Z",
     "shell.execute_reply": "2023-05-20T12:48:04.366427Z"
    },
    "executionInfo": {
     "elapsed": 1439,
     "status": "ok",
     "timestamp": 1684515131346,
     "user": {
      "displayName": "Brijesh Yadav",
      "userId": "03225467880293085279"
     },
     "user_tz": -330
    },
    "id": "4rEs-8rOfayT",
    "papermill": {
     "duration": 1.823147,
     "end_time": "2023-05-20T12:48:04.370162",
     "exception": false,
     "start_time": "2023-05-20T12:48:02.547015",
     "status": "completed"
    },
    "tags": []
   },
   "outputs": [],
   "source": [
    "response=requests.get(topics_page_url)"
   ]
  },
  {
   "cell_type": "code",
   "execution_count": 45,
   "id": "751b3797",
   "metadata": {
    "execution": {
     "iopub.execute_input": "2023-05-20T12:48:04.425747Z",
     "iopub.status.busy": "2023-05-20T12:48:04.425396Z",
     "iopub.status.idle": "2023-05-20T12:48:04.431496Z",
     "shell.execute_reply": "2023-05-20T12:48:04.430515Z"
    },
    "executionInfo": {
     "elapsed": 38,
     "status": "ok",
     "timestamp": 1684515131347,
     "user": {
      "displayName": "Brijesh Yadav",
      "userId": "03225467880293085279"
     },
     "user_tz": -330
    },
    "id": "BoAdKhOKfa1k",
    "outputId": "553e1580-933b-4709-9430-c93faf893540",
    "papermill": {
     "duration": 0.036215,
     "end_time": "2023-05-20T12:48:04.433490",
     "exception": false,
     "start_time": "2023-05-20T12:48:04.397275",
     "status": "completed"
    },
    "tags": []
   },
   "outputs": [
    {
     "data": {
      "text/plain": [
       "200"
      ]
     },
     "execution_count": 45,
     "metadata": {},
     "output_type": "execute_result"
    }
   ],
   "source": [
    "response.status_code"
   ]
  },
  {
   "cell_type": "code",
   "execution_count": 46,
   "id": "83297720",
   "metadata": {
    "execution": {
     "iopub.execute_input": "2023-05-20T12:48:04.488209Z",
     "iopub.status.busy": "2023-05-20T12:48:04.487836Z",
     "iopub.status.idle": "2023-05-20T12:48:04.495720Z",
     "shell.execute_reply": "2023-05-20T12:48:04.494704Z"
    },
    "executionInfo": {
     "elapsed": 34,
     "status": "ok",
     "timestamp": 1684515131349,
     "user": {
      "displayName": "Brijesh Yadav",
      "userId": "03225467880293085279"
     },
     "user_tz": -330
    },
    "id": "RYgUAJRLfa4o",
    "outputId": "ef96b0f8-fdfe-43ec-8a66-192b543d70a5",
    "papermill": {
     "duration": 0.037541,
     "end_time": "2023-05-20T12:48:04.497769",
     "exception": false,
     "start_time": "2023-05-20T12:48:04.460228",
     "status": "completed"
    },
    "tags": []
   },
   "outputs": [
    {
     "data": {
      "text/plain": [
       "463442"
      ]
     },
     "execution_count": 46,
     "metadata": {},
     "output_type": "execute_result"
    }
   ],
   "source": [
    "len(response.text)"
   ]
  },
  {
   "cell_type": "code",
   "execution_count": 47,
   "id": "57fe58ce",
   "metadata": {
    "execution": {
     "iopub.execute_input": "2023-05-20T12:48:04.553987Z",
     "iopub.status.busy": "2023-05-20T12:48:04.553627Z",
     "iopub.status.idle": "2023-05-20T12:48:04.703330Z",
     "shell.execute_reply": "2023-05-20T12:48:04.702133Z"
    },
    "executionInfo": {
     "elapsed": 8,
     "status": "ok",
     "timestamp": 1684515133707,
     "user": {
      "displayName": "Brijesh Yadav",
      "userId": "03225467880293085279"
     },
     "user_tz": -330
    },
    "id": "HarXmrFyg4jX",
    "papermill": {
     "duration": 0.180646,
     "end_time": "2023-05-20T12:48:04.705676",
     "exception": false,
     "start_time": "2023-05-20T12:48:04.525030",
     "status": "completed"
    },
    "tags": []
   },
   "outputs": [],
   "source": [
    "topic_doc=BeautifulSoup(response.text,'html.parser')"
   ]
  },
  {
   "cell_type": "code",
   "execution_count": 48,
   "id": "f10fec34",
   "metadata": {
    "execution": {
     "iopub.execute_input": "2023-05-20T12:48:04.761489Z",
     "iopub.status.busy": "2023-05-20T12:48:04.760883Z",
     "iopub.status.idle": "2023-05-20T12:48:04.772134Z",
     "shell.execute_reply": "2023-05-20T12:48:04.771121Z"
    },
    "executionInfo": {
     "elapsed": 7,
     "status": "ok",
     "timestamp": 1684515134582,
     "user": {
      "displayName": "Brijesh Yadav",
      "userId": "03225467880293085279"
     },
     "user_tz": -330
    },
    "id": "E-DzcXxUg4ma",
    "papermill": {
     "duration": 0.04151,
     "end_time": "2023-05-20T12:48:04.774178",
     "exception": false,
     "start_time": "2023-05-20T12:48:04.732668",
     "status": "completed"
    },
    "tags": []
   },
   "outputs": [],
   "source": [
    "h3_selection_class='f3 color-fg-muted text-normal lh-condensed'\n",
    "repo_tags=topic_doc.find_all('h3',{'class':h3_selection_class})"
   ]
  },
  {
   "cell_type": "code",
   "execution_count": 49,
   "id": "ca302e2b",
   "metadata": {
    "execution": {
     "iopub.execute_input": "2023-05-20T12:48:04.828869Z",
     "iopub.status.busy": "2023-05-20T12:48:04.828494Z",
     "iopub.status.idle": "2023-05-20T12:48:04.834574Z",
     "shell.execute_reply": "2023-05-20T12:48:04.833497Z"
    },
    "executionInfo": {
     "elapsed": 7,
     "status": "ok",
     "timestamp": 1684515134583,
     "user": {
      "displayName": "Brijesh Yadav",
      "userId": "03225467880293085279"
     },
     "user_tz": -330
    },
    "id": "lUCrrYsKg4pP",
    "outputId": "e689f0ce-a777-4540-9346-70a6c0bfd5f8",
    "papermill": {
     "duration": 0.035587,
     "end_time": "2023-05-20T12:48:04.836398",
     "exception": false,
     "start_time": "2023-05-20T12:48:04.800811",
     "status": "completed"
    },
    "tags": []
   },
   "outputs": [
    {
     "data": {
      "text/plain": [
       "20"
      ]
     },
     "execution_count": 49,
     "metadata": {},
     "output_type": "execute_result"
    }
   ],
   "source": [
    "len(repo_tags)"
   ]
  },
  {
   "cell_type": "markdown",
   "id": "0d890e86",
   "metadata": {
    "id": "HUpswDqQ3FW5",
    "papermill": {
     "duration": 0.02636,
     "end_time": "2023-05-20T12:48:04.889514",
     "exception": false,
     "start_time": "2023-05-20T12:48:04.863154",
     "status": "completed"
    },
    "tags": []
   },
   "source": [
    "### extrating the anchor tag"
   ]
  },
  {
   "cell_type": "code",
   "execution_count": 50,
   "id": "7cf8e563",
   "metadata": {
    "execution": {
     "iopub.execute_input": "2023-05-20T12:48:04.943907Z",
     "iopub.status.busy": "2023-05-20T12:48:04.943515Z",
     "iopub.status.idle": "2023-05-20T12:48:04.948540Z",
     "shell.execute_reply": "2023-05-20T12:48:04.947425Z"
    },
    "executionInfo": {
     "elapsed": 11,
     "status": "ok",
     "timestamp": 1684515136338,
     "user": {
      "displayName": "Brijesh Yadav",
      "userId": "03225467880293085279"
     },
     "user_tz": -330
    },
    "id": "wjmtrEzEg4rr",
    "papermill": {
     "duration": 0.034459,
     "end_time": "2023-05-20T12:48:04.950464",
     "exception": false,
     "start_time": "2023-05-20T12:48:04.916005",
     "status": "completed"
    },
    "tags": []
   },
   "outputs": [],
   "source": [
    "a_tags=repo_tags[0].find_all('a')"
   ]
  },
  {
   "cell_type": "code",
   "execution_count": 51,
   "id": "2d0afe6b",
   "metadata": {
    "execution": {
     "iopub.execute_input": "2023-05-20T12:48:05.004924Z",
     "iopub.status.busy": "2023-05-20T12:48:05.004539Z",
     "iopub.status.idle": "2023-05-20T12:48:05.010874Z",
     "shell.execute_reply": "2023-05-20T12:48:05.009908Z"
    },
    "executionInfo": {
     "elapsed": 11,
     "status": "ok",
     "timestamp": 1684515136340,
     "user": {
      "displayName": "Brijesh Yadav",
      "userId": "03225467880293085279"
     },
     "user_tz": -330
    },
    "id": "YCgZqkb-kdqJ",
    "outputId": "89c35975-85bd-4c5c-c1ef-5c268b94dc56",
    "papermill": {
     "duration": 0.035958,
     "end_time": "2023-05-20T12:48:05.012818",
     "exception": false,
     "start_time": "2023-05-20T12:48:04.976860",
     "status": "completed"
    },
    "tags": []
   },
   "outputs": [
    {
     "data": {
      "text/plain": [
       "[<a data-hydro-click='{\"event_type\":\"explore.click\",\"payload\":{\"click_context\":\"REPOSITORY_CARD\",\"click_target\":\"OWNER\",\"click_visual_representation\":\"REPOSITORY_OWNER_HEADING\",\"actor_id\":null,\"record_id\":97088,\"originating_url\":\"https://github.com/topics/3d\",\"user_id\":null}}' data-hydro-click-hmac=\"4bdbc49d3c05ae7f70b531fbce709a384200b0768554e0172950286a8db30940\" data-turbo=\"false\" data-view-component=\"true\" href=\"/mrdoob\">\n",
       "             mrdoob\n",
       " </a>,\n",
       " <a class=\"text-bold wb-break-word\" data-hydro-click='{\"event_type\":\"explore.click\",\"payload\":{\"click_context\":\"REPOSITORY_CARD\",\"click_target\":\"REPOSITORY\",\"click_visual_representation\":\"REPOSITORY_NAME_HEADING\",\"actor_id\":null,\"record_id\":576201,\"originating_url\":\"https://github.com/topics/3d\",\"user_id\":null}}' data-hydro-click-hmac=\"517d3d5cb9d89752156923904a4238816bc9b51ab7772f3e3644ce897d8dd4e5\" data-turbo=\"false\" data-view-component=\"true\" href=\"/mrdoob/three.js\">\n",
       "             three.js\n",
       " </a>]"
      ]
     },
     "execution_count": 51,
     "metadata": {},
     "output_type": "execute_result"
    }
   ],
   "source": [
    "a_tags"
   ]
  },
  {
   "cell_type": "markdown",
   "id": "d8c099df",
   "metadata": {
    "id": "I0BdNtgM3Pb3",
    "papermill": {
     "duration": 0.026493,
     "end_time": "2023-05-20T12:48:05.066026",
     "exception": false,
     "start_time": "2023-05-20T12:48:05.039533",
     "status": "completed"
    },
    "tags": []
   },
   "source": [
    "### extracting the link of profile of the repo owner"
   ]
  },
  {
   "cell_type": "code",
   "execution_count": 52,
   "id": "427157ba",
   "metadata": {
    "execution": {
     "iopub.execute_input": "2023-05-20T12:48:05.121189Z",
     "iopub.status.busy": "2023-05-20T12:48:05.120799Z",
     "iopub.status.idle": "2023-05-20T12:48:05.126724Z",
     "shell.execute_reply": "2023-05-20T12:48:05.125773Z"
    },
    "executionInfo": {
     "elapsed": 27,
     "status": "ok",
     "timestamp": 1684515139525,
     "user": {
      "displayName": "Brijesh Yadav",
      "userId": "03225467880293085279"
     },
     "user_tz": -330
    },
    "id": "0M_G_ttmj8mh",
    "outputId": "684dbe9e-ff7c-4af7-9e6a-037249039954",
    "papermill": {
     "duration": 0.036303,
     "end_time": "2023-05-20T12:48:05.128895",
     "exception": false,
     "start_time": "2023-05-20T12:48:05.092592",
     "status": "completed"
    },
    "tags": []
   },
   "outputs": [
    {
     "data": {
      "text/plain": [
       "'/mrdoob'"
      ]
     },
     "execution_count": 52,
     "metadata": {},
     "output_type": "execute_result"
    }
   ],
   "source": [
    "a_tags[0]['href']# link to the repo owner profile"
   ]
  },
  {
   "cell_type": "markdown",
   "id": "c791f8a3",
   "metadata": {
    "id": "kHYeLVSe3cvo",
    "papermill": {
     "duration": 0.027208,
     "end_time": "2023-05-20T12:48:05.183119",
     "exception": false,
     "start_time": "2023-05-20T12:48:05.155911",
     "status": "completed"
    },
    "tags": []
   },
   "source": [
    "### extracting the name of the repo owner"
   ]
  },
  {
   "cell_type": "code",
   "execution_count": 53,
   "id": "5e97df73",
   "metadata": {
    "execution": {
     "iopub.execute_input": "2023-05-20T12:48:05.239850Z",
     "iopub.status.busy": "2023-05-20T12:48:05.239106Z",
     "iopub.status.idle": "2023-05-20T12:48:05.245422Z",
     "shell.execute_reply": "2023-05-20T12:48:05.244641Z"
    },
    "executionInfo": {
     "elapsed": 26,
     "status": "ok",
     "timestamp": 1684515139527,
     "user": {
      "displayName": "Brijesh Yadav",
      "userId": "03225467880293085279"
     },
     "user_tz": -330
    },
    "id": "r7lWZOzxg4ud",
    "outputId": "dc065d14-4269-4922-dc08-e3d9362851a2",
    "papermill": {
     "duration": 0.036715,
     "end_time": "2023-05-20T12:48:05.247352",
     "exception": false,
     "start_time": "2023-05-20T12:48:05.210637",
     "status": "completed"
    },
    "tags": []
   },
   "outputs": [
    {
     "data": {
      "text/plain": [
       "'mrdoob'"
      ]
     },
     "execution_count": 53,
     "metadata": {},
     "output_type": "execute_result"
    }
   ],
   "source": [
    "a_tags[0].text.strip()# name of the repo owner"
   ]
  },
  {
   "cell_type": "code",
   "execution_count": 54,
   "id": "59b2dde4",
   "metadata": {
    "execution": {
     "iopub.execute_input": "2023-05-20T12:48:05.303536Z",
     "iopub.status.busy": "2023-05-20T12:48:05.302930Z",
     "iopub.status.idle": "2023-05-20T12:48:05.309197Z",
     "shell.execute_reply": "2023-05-20T12:48:05.308433Z"
    },
    "executionInfo": {
     "elapsed": 10,
     "status": "ok",
     "timestamp": 1684515140818,
     "user": {
      "displayName": "Brijesh Yadav",
      "userId": "03225467880293085279"
     },
     "user_tz": -330
    },
    "id": "39l6--u2j8tT",
    "outputId": "5e9ff0a8-dd83-47ed-d8c2-2b2fbafd6d1c",
    "papermill": {
     "duration": 0.036632,
     "end_time": "2023-05-20T12:48:05.311018",
     "exception": false,
     "start_time": "2023-05-20T12:48:05.274386",
     "status": "completed"
    },
    "tags": []
   },
   "outputs": [
    {
     "data": {
      "text/plain": [
       "<a class=\"text-bold wb-break-word\" data-hydro-click='{\"event_type\":\"explore.click\",\"payload\":{\"click_context\":\"REPOSITORY_CARD\",\"click_target\":\"REPOSITORY\",\"click_visual_representation\":\"REPOSITORY_NAME_HEADING\",\"actor_id\":null,\"record_id\":576201,\"originating_url\":\"https://github.com/topics/3d\",\"user_id\":null}}' data-hydro-click-hmac=\"517d3d5cb9d89752156923904a4238816bc9b51ab7772f3e3644ce897d8dd4e5\" data-turbo=\"false\" data-view-component=\"true\" href=\"/mrdoob/three.js\">\n",
       "            three.js\n",
       "</a>"
      ]
     },
     "execution_count": 54,
     "metadata": {},
     "output_type": "execute_result"
    }
   ],
   "source": [
    "a_tags[1]"
   ]
  },
  {
   "cell_type": "markdown",
   "id": "fe4a23a5",
   "metadata": {
    "id": "qLXY7iqx3lBP",
    "papermill": {
     "duration": 0.02658,
     "end_time": "2023-05-20T12:48:05.364341",
     "exception": false,
     "start_time": "2023-05-20T12:48:05.337761",
     "status": "completed"
    },
    "tags": []
   },
   "source": [
    "### extracting the repo name"
   ]
  },
  {
   "cell_type": "code",
   "execution_count": 55,
   "id": "3fda5981",
   "metadata": {
    "execution": {
     "iopub.execute_input": "2023-05-20T12:48:05.420331Z",
     "iopub.status.busy": "2023-05-20T12:48:05.419602Z",
     "iopub.status.idle": "2023-05-20T12:48:05.426034Z",
     "shell.execute_reply": "2023-05-20T12:48:05.425065Z"
    },
    "executionInfo": {
     "elapsed": 17,
     "status": "ok",
     "timestamp": 1684515141449,
     "user": {
      "displayName": "Brijesh Yadav",
      "userId": "03225467880293085279"
     },
     "user_tz": -330
    },
    "id": "6ngw1U3Wg4w_",
    "outputId": "c0a67f1e-7a50-4c78-b670-1005b65c6d68",
    "papermill": {
     "duration": 0.036489,
     "end_time": "2023-05-20T12:48:05.427884",
     "exception": false,
     "start_time": "2023-05-20T12:48:05.391395",
     "status": "completed"
    },
    "tags": []
   },
   "outputs": [
    {
     "data": {
      "text/plain": [
       "'three.js'"
      ]
     },
     "execution_count": 55,
     "metadata": {},
     "output_type": "execute_result"
    }
   ],
   "source": [
    "a_tags[1].text.strip()# name of the repo"
   ]
  },
  {
   "cell_type": "code",
   "execution_count": 56,
   "id": "2c7b1c7a",
   "metadata": {
    "execution": {
     "iopub.execute_input": "2023-05-20T12:48:05.483744Z",
     "iopub.status.busy": "2023-05-20T12:48:05.483134Z",
     "iopub.status.idle": "2023-05-20T12:48:05.489061Z",
     "shell.execute_reply": "2023-05-20T12:48:05.488320Z"
    },
    "executionInfo": {
     "elapsed": 21,
     "status": "ok",
     "timestamp": 1684515142072,
     "user": {
      "displayName": "Brijesh Yadav",
      "userId": "03225467880293085279"
     },
     "user_tz": -330
    },
    "id": "O5k2vgNDkLFC",
    "outputId": "daaa62c4-68c8-4cb2-f047-25225aeb5b7e",
    "papermill": {
     "duration": 0.036119,
     "end_time": "2023-05-20T12:48:05.491036",
     "exception": false,
     "start_time": "2023-05-20T12:48:05.454917",
     "status": "completed"
    },
    "tags": []
   },
   "outputs": [
    {
     "data": {
      "text/plain": [
       "'https://github.com/mrdoob/three.js'"
      ]
     },
     "execution_count": 56,
     "metadata": {},
     "output_type": "execute_result"
    }
   ],
   "source": [
    "'https://github.com'+a_tags[1]['href']# url of the repo\n",
    "#https://github.com/mrdoob/three.js"
   ]
  },
  {
   "cell_type": "markdown",
   "id": "05b852d0",
   "metadata": {
    "id": "lynju7vu3zNS",
    "papermill": {
     "duration": 0.026794,
     "end_time": "2023-05-20T12:48:05.545196",
     "exception": false,
     "start_time": "2023-05-20T12:48:05.518402",
     "status": "completed"
    },
    "tags": []
   },
   "source": [
    "### extracting the star of the repo"
   ]
  },
  {
   "cell_type": "code",
   "execution_count": 57,
   "id": "53735207",
   "metadata": {
    "execution": {
     "iopub.execute_input": "2023-05-20T12:48:05.601331Z",
     "iopub.status.busy": "2023-05-20T12:48:05.600730Z",
     "iopub.status.idle": "2023-05-20T12:48:05.611965Z",
     "shell.execute_reply": "2023-05-20T12:48:05.611302Z"
    },
    "executionInfo": {
     "elapsed": 14,
     "status": "ok",
     "timestamp": 1684515145178,
     "user": {
      "displayName": "Brijesh Yadav",
      "userId": "03225467880293085279"
     },
     "user_tz": -330
    },
    "id": "1QPgBP5MkLJJ",
    "papermill": {
     "duration": 0.0415,
     "end_time": "2023-05-20T12:48:05.613852",
     "exception": false,
     "start_time": "2023-05-20T12:48:05.572352",
     "status": "completed"
    },
    "tags": []
   },
   "outputs": [],
   "source": [
    "select_star='repo-stars-counter-star'\n",
    "star_count=topic_doc.find_all('span',{'id':select_star})"
   ]
  },
  {
   "cell_type": "code",
   "execution_count": 58,
   "id": "ce4909c2",
   "metadata": {
    "execution": {
     "iopub.execute_input": "2023-05-20T12:48:05.669713Z",
     "iopub.status.busy": "2023-05-20T12:48:05.669123Z",
     "iopub.status.idle": "2023-05-20T12:48:05.674850Z",
     "shell.execute_reply": "2023-05-20T12:48:05.674099Z"
    },
    "executionInfo": {
     "elapsed": 14,
     "status": "ok",
     "timestamp": 1684515145180,
     "user": {
      "displayName": "Brijesh Yadav",
      "userId": "03225467880293085279"
     },
     "user_tz": -330
    },
    "id": "YVGGPz5JlEw5",
    "outputId": "50ecea20-f5b6-462e-b4e1-8f199e2282ba",
    "papermill": {
     "duration": 0.035642,
     "end_time": "2023-05-20T12:48:05.676677",
     "exception": false,
     "start_time": "2023-05-20T12:48:05.641035",
     "status": "completed"
    },
    "tags": []
   },
   "outputs": [
    {
     "data": {
      "text/plain": [
       "20"
      ]
     },
     "execution_count": 58,
     "metadata": {},
     "output_type": "execute_result"
    }
   ],
   "source": [
    "len(star_count)"
   ]
  },
  {
   "cell_type": "code",
   "execution_count": 59,
   "id": "d4c13458",
   "metadata": {
    "execution": {
     "iopub.execute_input": "2023-05-20T12:48:05.732800Z",
     "iopub.status.busy": "2023-05-20T12:48:05.732213Z",
     "iopub.status.idle": "2023-05-20T12:48:05.738018Z",
     "shell.execute_reply": "2023-05-20T12:48:05.737295Z"
    },
    "executionInfo": {
     "elapsed": 13,
     "status": "ok",
     "timestamp": 1684515145614,
     "user": {
      "displayName": "Brijesh Yadav",
      "userId": "03225467880293085279"
     },
     "user_tz": -330
    },
    "id": "SvldBtVDlE0C",
    "outputId": "35894d62-c7d3-4219-cac5-e6eb0e64e434",
    "papermill": {
     "duration": 0.036101,
     "end_time": "2023-05-20T12:48:05.739839",
     "exception": false,
     "start_time": "2023-05-20T12:48:05.703738",
     "status": "completed"
    },
    "tags": []
   },
   "outputs": [
    {
     "data": {
      "text/plain": [
       "'91.9k'"
      ]
     },
     "execution_count": 59,
     "metadata": {},
     "output_type": "execute_result"
    }
   ],
   "source": [
    "star_count[0].text"
   ]
  },
  {
   "cell_type": "markdown",
   "id": "b39fe867",
   "metadata": {
    "id": "VrahEqbknkWA",
    "papermill": {
     "duration": 0.027149,
     "end_time": "2023-05-20T12:48:05.794355",
     "exception": false,
     "start_time": "2023-05-20T12:48:05.767206",
     "status": "completed"
    },
    "tags": []
   },
   "source": [
    "## creating the list of all stars of a particular topic "
   ]
  },
  {
   "cell_type": "code",
   "execution_count": 60,
   "id": "a663c18d",
   "metadata": {
    "execution": {
     "iopub.execute_input": "2023-05-20T12:48:05.851025Z",
     "iopub.status.busy": "2023-05-20T12:48:05.850454Z",
     "iopub.status.idle": "2023-05-20T12:48:05.854913Z",
     "shell.execute_reply": "2023-05-20T12:48:05.854244Z"
    },
    "executionInfo": {
     "elapsed": 7,
     "status": "ok",
     "timestamp": 1684515148155,
     "user": {
      "displayName": "Brijesh Yadav",
      "userId": "03225467880293085279"
     },
     "user_tz": -330
    },
    "id": "dnt5Kg7alE3C",
    "papermill": {
     "duration": 0.034953,
     "end_time": "2023-05-20T12:48:05.856747",
     "exception": false,
     "start_time": "2023-05-20T12:48:05.821794",
     "status": "completed"
    },
    "tags": []
   },
   "outputs": [],
   "source": [
    "\n",
    "star_list=[]\n",
    "for i in star_count:\n",
    "  star_list.append(i.text)"
   ]
  },
  {
   "cell_type": "code",
   "execution_count": 61,
   "id": "897ac416",
   "metadata": {
    "execution": {
     "iopub.execute_input": "2023-05-20T12:48:05.912848Z",
     "iopub.status.busy": "2023-05-20T12:48:05.912470Z",
     "iopub.status.idle": "2023-05-20T12:48:05.918817Z",
     "shell.execute_reply": "2023-05-20T12:48:05.917826Z"
    },
    "executionInfo": {
     "elapsed": 9,
     "status": "ok",
     "timestamp": 1684515148934,
     "user": {
      "displayName": "Brijesh Yadav",
      "userId": "03225467880293085279"
     },
     "user_tz": -330
    },
    "id": "n-ogI87IlE6R",
    "outputId": "4b4d3736-394a-4713-e3cb-b73987551fb8",
    "papermill": {
     "duration": 0.036682,
     "end_time": "2023-05-20T12:48:05.920783",
     "exception": false,
     "start_time": "2023-05-20T12:48:05.884101",
     "status": "completed"
    },
    "tags": []
   },
   "outputs": [
    {
     "data": {
      "text/plain": [
       "['91.9k',\n",
       " '22.6k',\n",
       " '21.5k',\n",
       " '20.7k',\n",
       " '16.9k',\n",
       " '15.3k',\n",
       " '15.3k',\n",
       " '14.1k',\n",
       " '10.4k',\n",
       " '9.7k',\n",
       " '8.9k',\n",
       " '8.8k',\n",
       " '8.5k',\n",
       " '7.4k',\n",
       " '6.3k',\n",
       " '6.1k',\n",
       " '5.6k',\n",
       " '5.6k',\n",
       " '5.2k',\n",
       " '5.1k']"
      ]
     },
     "execution_count": 61,
     "metadata": {},
     "output_type": "execute_result"
    }
   ],
   "source": [
    "star_list"
   ]
  },
  {
   "cell_type": "code",
   "execution_count": null,
   "id": "223195f1",
   "metadata": {
    "executionInfo": {
     "elapsed": 5,
     "status": "ok",
     "timestamp": 1684515150447,
     "user": {
      "displayName": "Brijesh Yadav",
      "userId": "03225467880293085279"
     },
     "user_tz": -330
    },
    "id": "YRdP3pxPlE9g",
    "papermill": {
     "duration": 0.02719,
     "end_time": "2023-05-20T12:48:05.976061",
     "exception": false,
     "start_time": "2023-05-20T12:48:05.948871",
     "status": "completed"
    },
    "tags": []
   },
   "outputs": [],
   "source": []
  },
  {
   "cell_type": "markdown",
   "id": "6c1524ad",
   "metadata": {
    "id": "-SCcBs7AnvKo",
    "papermill": {
     "duration": 0.027015,
     "end_time": "2023-05-20T12:48:06.030508",
     "exception": false,
     "start_time": "2023-05-20T12:48:06.003493",
     "status": "completed"
    },
    "tags": []
   },
   "source": [
    "## creating the list of  repo of a partiular topic , name of repo holder and the repo link and storing it to the csv file"
   ]
  },
  {
   "cell_type": "code",
   "execution_count": 62,
   "id": "a425dffe",
   "metadata": {
    "execution": {
     "iopub.execute_input": "2023-05-20T12:48:06.087320Z",
     "iopub.status.busy": "2023-05-20T12:48:06.086629Z",
     "iopub.status.idle": "2023-05-20T12:48:06.113294Z",
     "shell.execute_reply": "2023-05-20T12:48:06.112173Z"
    },
    "executionInfo": {
     "elapsed": 5,
     "status": "ok",
     "timestamp": 1684515152607,
     "user": {
      "displayName": "Brijesh Yadav",
      "userId": "03225467880293085279"
     },
     "user_tz": -330
    },
    "id": "Kp8G09YOnsAn",
    "papermill": {
     "duration": 0.057587,
     "end_time": "2023-05-20T12:48:06.115503",
     "exception": false,
     "start_time": "2023-05-20T12:48:06.057916",
     "status": "completed"
    },
    "tags": []
   },
   "outputs": [],
   "source": [
    "\n",
    "topic_repo=[]\n",
    "topic_repo_owner=[]\n",
    "repo_link=[]\n",
    "for i in range(len(repo_tags)):\n",
    " \n",
    "  a_tags=repo_tags[i].find_all('a')\n",
    "  topic_repo.append(a_tags[1].text.strip())# name of the repo\n",
    "  topic_repo_owner.append(a_tags[0].text.strip())# name of the repo owner\n",
    "  repo_link.append('https://github.com'+a_tags[1]['href']) # repo_links\n",
    "  # creating the csv file of topic information\n",
    "  dict={'topic_name':topic_repo,\n",
    "          '_repo_owner_name':topic_repo_owner,\n",
    "          'repo_link':repo_link}\n",
    "  topics_df=pd.DataFrame(dict)\n",
    "  topics_df.to_csv('repo_info'+str(i)+'.csv')\n",
    "\n",
    "\n",
    "\n",
    "\n",
    "  "
   ]
  },
  {
   "cell_type": "code",
   "execution_count": 63,
   "id": "d1be9668",
   "metadata": {
    "execution": {
     "iopub.execute_input": "2023-05-20T12:48:06.172345Z",
     "iopub.status.busy": "2023-05-20T12:48:06.171941Z",
     "iopub.status.idle": "2023-05-20T12:48:06.180793Z",
     "shell.execute_reply": "2023-05-20T12:48:06.179834Z"
    },
    "executionInfo": {
     "elapsed": 480,
     "status": "ok",
     "timestamp": 1684515198060,
     "user": {
      "displayName": "Brijesh Yadav",
      "userId": "03225467880293085279"
     },
     "user_tz": -330
    },
    "id": "jGH29UWLnsDj",
    "papermill": {
     "duration": 0.039771,
     "end_time": "2023-05-20T12:48:06.182963",
     "exception": false,
     "start_time": "2023-05-20T12:48:06.143192",
     "status": "completed"
    },
    "tags": []
   },
   "outputs": [],
   "source": [
    "topics_github_df=pd.read_csv('topics_github.csv')"
   ]
  },
  {
   "cell_type": "code",
   "execution_count": 64,
   "id": "0d6616a4",
   "metadata": {
    "execution": {
     "iopub.execute_input": "2023-05-20T12:48:06.240549Z",
     "iopub.status.busy": "2023-05-20T12:48:06.239757Z",
     "iopub.status.idle": "2023-05-20T12:48:06.247047Z",
     "shell.execute_reply": "2023-05-20T12:48:06.246277Z"
    },
    "executionInfo": {
     "elapsed": 6,
     "status": "ok",
     "timestamp": 1684515200966,
     "user": {
      "displayName": "Brijesh Yadav",
      "userId": "03225467880293085279"
     },
     "user_tz": -330
    },
    "id": "6v9rMYMRnsGo",
    "outputId": "1f0def0d-84ba-44a3-ab1d-0d9c94b03232",
    "papermill": {
     "duration": 0.037939,
     "end_time": "2023-05-20T12:48:06.249065",
     "exception": false,
     "start_time": "2023-05-20T12:48:06.211126",
     "status": "completed"
    },
    "tags": []
   },
   "outputs": [
    {
     "data": {
      "text/plain": [
       "0                         https://github.com/topics/3d\n",
       "1                       https://github.com/topics/ajax\n",
       "2                  https://github.com/topics/algorithm\n",
       "3                      https://github.com/topics/amphp\n",
       "4                    https://github.com/topics/android\n",
       "5                    https://github.com/topics/angular\n",
       "6                    https://github.com/topics/ansible\n",
       "7                        https://github.com/topics/api\n",
       "8                    https://github.com/topics/arduino\n",
       "9                     https://github.com/topics/aspnet\n",
       "10                      https://github.com/topics/atom\n",
       "11                   https://github.com/topics/awesome\n",
       "12                       https://github.com/topics/aws\n",
       "13                     https://github.com/topics/azure\n",
       "14                     https://github.com/topics/babel\n",
       "15                      https://github.com/topics/bash\n",
       "16                   https://github.com/topics/bitcoin\n",
       "17                 https://github.com/topics/bootstrap\n",
       "18                       https://github.com/topics/bot\n",
       "19                         https://github.com/topics/c\n",
       "20                    https://github.com/topics/chrome\n",
       "21          https://github.com/topics/chrome-extension\n",
       "22                       https://github.com/topics/cli\n",
       "23                   https://github.com/topics/clojure\n",
       "24              https://github.com/topics/code-quality\n",
       "25               https://github.com/topics/code-review\n",
       "26                  https://github.com/topics/compiler\n",
       "27    https://github.com/topics/continuous-integration\n",
       "28                  https://github.com/topics/covid-19\n",
       "29                       https://github.com/topics/cpp\n",
       "Name: topic_url, dtype: object"
      ]
     },
     "execution_count": 64,
     "metadata": {},
     "output_type": "execute_result"
    }
   ],
   "source": [
    "topics_github_df['topic_url']"
   ]
  },
  {
   "cell_type": "markdown",
   "id": "02534273",
   "metadata": {
    "id": "UbwK8maw9IuN",
    "papermill": {
     "duration": 0.027985,
     "end_time": "2023-05-20T12:48:06.304875",
     "exception": false,
     "start_time": "2023-05-20T12:48:06.276890",
     "status": "completed"
    },
    "tags": []
   },
   "source": [
    "# from each  topic of the github we are scrapping all the repo name along with its owner and the number of star that repo have"
   ]
  },
  {
   "cell_type": "code",
   "execution_count": 65,
   "id": "ec171de9",
   "metadata": {
    "execution": {
     "iopub.execute_input": "2023-05-20T12:48:06.362170Z",
     "iopub.status.busy": "2023-05-20T12:48:06.361769Z",
     "iopub.status.idle": "2023-05-20T12:48:56.249343Z",
     "shell.execute_reply": "2023-05-20T12:48:56.248438Z"
    },
    "executionInfo": {
     "elapsed": 43413,
     "status": "ok",
     "timestamp": 1684515259878,
     "user": {
      "displayName": "Brijesh Yadav",
      "userId": "03225467880293085279"
     },
     "user_tz": -330
    },
    "id": "tCAVlbDrlE_5",
    "outputId": "d791a606-4c6b-430b-b78c-7e3b368f0d89",
    "papermill": {
     "duration": 49.919063,
     "end_time": "2023-05-20T12:48:56.251707",
     "exception": false,
     "start_time": "2023-05-20T12:48:06.332644",
     "status": "completed"
    },
    "tags": []
   },
   "outputs": [
    {
     "name": "stdout",
     "output_type": "stream",
     "text": [
      "https://github.com/topics/3d\n",
      "https://github.com/topics/ajax\n",
      "https://github.com/topics/algorithm\n",
      "https://github.com/topics/amphp\n",
      "https://github.com/topics/android\n",
      "https://github.com/topics/angular\n",
      "https://github.com/topics/ansible\n",
      "https://github.com/topics/api\n",
      "https://github.com/topics/arduino\n",
      "https://github.com/topics/aspnet\n",
      "https://github.com/topics/atom\n",
      "https://github.com/topics/awesome\n",
      "https://github.com/topics/aws\n",
      "https://github.com/topics/azure\n",
      "https://github.com/topics/babel\n",
      "https://github.com/topics/bash\n",
      "https://github.com/topics/bitcoin\n",
      "https://github.com/topics/bootstrap\n",
      "https://github.com/topics/bot\n",
      "https://github.com/topics/c\n",
      "https://github.com/topics/chrome\n",
      "https://github.com/topics/chrome-extension\n",
      "https://github.com/topics/cli\n",
      "https://github.com/topics/clojure\n",
      "https://github.com/topics/code-quality\n",
      "https://github.com/topics/code-review\n",
      "https://github.com/topics/compiler\n",
      "https://github.com/topics/continuous-integration\n",
      "https://github.com/topics/covid-19\n",
      "https://github.com/topics/cpp\n"
     ]
    }
   ],
   "source": [
    "k=0\n",
    "for topics_page_url in topics_github_df['topic_url']:\n",
    "\n",
    "  print(topics_page_url)\n",
    "  response=requests.get(topics_page_url)\n",
    "  topic_doc=BeautifulSoup(response.text,'html.parser')\n",
    "  h3_selection_class='f3 color-fg-muted text-normal lh-condensed'\n",
    "  repo_tags=topic_doc.find_all('h3',{'class':h3_selection_class})\n",
    "  select_star='repo-stars-counter-star'\n",
    "  star_count=topic_doc.find_all('span',{'id':select_star})\n",
    "  star_list=[]\n",
    "  topic_repo=[]\n",
    "  topic_repo_owner=[]\n",
    "  repo_link=[]\n",
    "  for i in star_count:\n",
    "    star_list.append(i.text)\n",
    "  j=0  \n",
    "  for i in range(len(repo_tags)):\n",
    "\n",
    "    a_tags=repo_tags[i].find_all('a')\n",
    "    topic_repo.append(a_tags[1].text.strip())# name of the repo\n",
    "    topic_repo_owner.append(a_tags[0].text.strip())# name of the repo owner\n",
    "    repo_link.append('https://github.com'+a_tags[1]['href']) # repo_links\n",
    "  # creating the csv file of topic information\n",
    "    dict={'topic_name':topic_repo,\n",
    "          '_repo_owner_name':topic_repo_owner,\n",
    "          'repo_link':repo_link,\n",
    "          'star_count':star_list[j]\n",
    "          }\n",
    "    j=j+1;      \n",
    "    topics_df=pd.DataFrame(dict)\n",
    "    topics_df.to_csv(a_tags[1].text.strip()+'.csv')\n",
    "    k=k+1\n",
    "\n",
    "\n",
    "  \n",
    "  "
   ]
  },
  {
   "cell_type": "code",
   "execution_count": null,
   "id": "b572bd34",
   "metadata": {
    "id": "W01AaPWBlFFw",
    "papermill": {
     "duration": 0.029738,
     "end_time": "2023-05-20T12:48:56.312187",
     "exception": false,
     "start_time": "2023-05-20T12:48:56.282449",
     "status": "completed"
    },
    "tags": []
   },
   "outputs": [],
   "source": []
  },
  {
   "cell_type": "code",
   "execution_count": null,
   "id": "731d78a2",
   "metadata": {
    "papermill": {
     "duration": 0.030145,
     "end_time": "2023-05-20T12:48:56.371930",
     "exception": false,
     "start_time": "2023-05-20T12:48:56.341785",
     "status": "completed"
    },
    "tags": []
   },
   "outputs": [],
   "source": []
  },
  {
   "cell_type": "markdown",
   "id": "150a6a43",
   "metadata": {
    "id": "hEfYiQw14TLL",
    "papermill": {
     "duration": 0.02984,
     "end_time": "2023-05-20T12:48:56.432187",
     "exception": false,
     "start_time": "2023-05-20T12:48:56.402347",
     "status": "completed"
    },
    "tags": []
   },
   "source": [
    "# 5.Document and share your work"
   ]
  },
  {
   "cell_type": "code",
   "execution_count": null,
   "id": "c406c311",
   "metadata": {
    "id": "kLNy0kshg3lQ",
    "papermill": {
     "duration": 0.029996,
     "end_time": "2023-05-20T12:48:56.493365",
     "exception": false,
     "start_time": "2023-05-20T12:48:56.463369",
     "status": "completed"
    },
    "tags": []
   },
   "outputs": [],
   "source": []
  },
  {
   "cell_type": "code",
   "execution_count": null,
   "id": "7875edb5",
   "metadata": {
    "id": "0oI0b79cg3n3",
    "papermill": {
     "duration": 0.029979,
     "end_time": "2023-05-20T12:48:56.553515",
     "exception": false,
     "start_time": "2023-05-20T12:48:56.523536",
     "status": "completed"
    },
    "tags": []
   },
   "outputs": [],
   "source": []
  },
  {
   "cell_type": "code",
   "execution_count": null,
   "id": "ab198a1b",
   "metadata": {
    "id": "fdBKLwKJg3q8",
    "papermill": {
     "duration": 0.02909,
     "end_time": "2023-05-20T12:48:56.612456",
     "exception": false,
     "start_time": "2023-05-20T12:48:56.583366",
     "status": "completed"
    },
    "tags": []
   },
   "outputs": [],
   "source": []
  },
  {
   "cell_type": "code",
   "execution_count": null,
   "id": "d66da4c6",
   "metadata": {
    "id": "eK3lOTZmg3t_",
    "papermill": {
     "duration": 0.029141,
     "end_time": "2023-05-20T12:48:56.670852",
     "exception": false,
     "start_time": "2023-05-20T12:48:56.641711",
     "status": "completed"
    },
    "tags": []
   },
   "outputs": [],
   "source": []
  },
  {
   "cell_type": "code",
   "execution_count": null,
   "id": "15acfd45",
   "metadata": {
    "id": "Rp48Xb3tg3w2",
    "papermill": {
     "duration": 0.029177,
     "end_time": "2023-05-20T12:48:56.729769",
     "exception": false,
     "start_time": "2023-05-20T12:48:56.700592",
     "status": "completed"
    },
    "tags": []
   },
   "outputs": [],
   "source": []
  },
  {
   "cell_type": "code",
   "execution_count": null,
   "id": "74849cea",
   "metadata": {
    "id": "HHqD5pOpg3zz",
    "papermill": {
     "duration": 0.029159,
     "end_time": "2023-05-20T12:48:56.788564",
     "exception": false,
     "start_time": "2023-05-20T12:48:56.759405",
     "status": "completed"
    },
    "tags": []
   },
   "outputs": [],
   "source": []
  },
  {
   "cell_type": "code",
   "execution_count": null,
   "id": "9a04922b",
   "metadata": {
    "id": "dvQxvN0q4TLL",
    "papermill": {
     "duration": 0.034018,
     "end_time": "2023-05-20T12:48:56.854023",
     "exception": false,
     "start_time": "2023-05-20T12:48:56.820005",
     "status": "completed"
    },
    "tags": []
   },
   "outputs": [],
   "source": []
  },
  {
   "cell_type": "code",
   "execution_count": null,
   "id": "5f2d4557",
   "metadata": {
    "id": "CSEfFObh4TLM",
    "papermill": {
     "duration": 0.032305,
     "end_time": "2023-05-20T12:48:56.923353",
     "exception": false,
     "start_time": "2023-05-20T12:48:56.891048",
     "status": "completed"
    },
    "tags": []
   },
   "outputs": [],
   "source": []
  },
  {
   "cell_type": "code",
   "execution_count": null,
   "id": "b463d872",
   "metadata": {
    "id": "EEk-4j3e4TLM",
    "papermill": {
     "duration": 0.029731,
     "end_time": "2023-05-20T12:48:56.983074",
     "exception": false,
     "start_time": "2023-05-20T12:48:56.953343",
     "status": "completed"
    },
    "tags": []
   },
   "outputs": [],
   "source": []
  },
  {
   "cell_type": "code",
   "execution_count": null,
   "id": "528ec9b7",
   "metadata": {
    "id": "W-JcY45Y4TLM",
    "papermill": {
     "duration": 0.02948,
     "end_time": "2023-05-20T12:48:57.042452",
     "exception": false,
     "start_time": "2023-05-20T12:48:57.012972",
     "status": "completed"
    },
    "tags": []
   },
   "outputs": [],
   "source": []
  }
 ],
 "metadata": {
  "kernelspec": {
   "display_name": "Python 3",
   "language": "python",
   "name": "python3"
  },
  "language_info": {
   "codemirror_mode": {
    "name": "ipython",
    "version": 3
   },
   "file_extension": ".py",
   "mimetype": "text/x-python",
   "name": "python",
   "nbconvert_exporter": "python",
   "pygments_lexer": "ipython3",
   "version": "3.10.10"
  },
  "papermill": {
   "default_parameters": {},
   "duration": 101.087847,
   "end_time": "2023-05-20T12:48:57.794227",
   "environment_variables": {},
   "exception": null,
   "input_path": "__notebook__.ipynb",
   "output_path": "__notebook__.ipynb",
   "parameters": {},
   "start_time": "2023-05-20T12:47:16.706380",
   "version": "2.4.0"
  }
 },
 "nbformat": 4,
 "nbformat_minor": 5
}
